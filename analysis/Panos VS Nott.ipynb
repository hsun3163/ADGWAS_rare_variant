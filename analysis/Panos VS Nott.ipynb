{
 "cells": [
  {
   "cell_type": "markdown",
   "id": "3500c42d-dc75-402b-b6a8-49f3c019ce86",
   "metadata": {
    "editable": true,
    "slideshow": {
     "slide_type": ""
    },
    "tags": []
   },
   "source": [
    "# Inner join panos vs nott reference"
   ]
  },
  {
   "cell_type": "code",
   "execution_count": 1,
   "id": "1869f31e-f1f7-43a4-ac28-7e6444c7e9a7",
   "metadata": {},
   "outputs": [
    {
     "name": "stderr",
     "output_type": "stream",
     "text": [
      "── \u001b[1mAttaching core tidyverse packages\u001b[22m ───────────────────────────────────────────────────────────────────────────────────────────────────────────────────────────────────────────────────────────── tidyverse 2.0.0 ──\n",
      "\u001b[32m✔\u001b[39m \u001b[34mdplyr    \u001b[39m 1.1.2     \u001b[32m✔\u001b[39m \u001b[34mreadr    \u001b[39m 2.1.4\n",
      "\u001b[32m✔\u001b[39m \u001b[34mforcats  \u001b[39m 1.0.0     \u001b[32m✔\u001b[39m \u001b[34mstringr  \u001b[39m 1.5.0\n",
      "\u001b[32m✔\u001b[39m \u001b[34mggplot2  \u001b[39m 3.4.2     \u001b[32m✔\u001b[39m \u001b[34mtibble   \u001b[39m 3.2.1\n",
      "\u001b[32m✔\u001b[39m \u001b[34mlubridate\u001b[39m 1.9.2     \u001b[32m✔\u001b[39m \u001b[34mtidyr    \u001b[39m 1.3.0\n",
      "\u001b[32m✔\u001b[39m \u001b[34mpurrr    \u001b[39m 1.0.1     \n",
      "── \u001b[1mConflicts\u001b[22m ─────────────────────────────────────────────────────────────────────────────────────────────────────────────────────────────────────────────────────────────────────────────── tidyverse_conflicts() ──\n",
      "\u001b[31m✖\u001b[39m \u001b[34mdplyr\u001b[39m::\u001b[32mfilter()\u001b[39m masks \u001b[34mstats\u001b[39m::filter()\n",
      "\u001b[31m✖\u001b[39m \u001b[34mdplyr\u001b[39m::\u001b[32mlag()\u001b[39m    masks \u001b[34mstats\u001b[39m::lag()\n",
      "\u001b[36mℹ\u001b[39m Use the conflicted package (\u001b[3m\u001b[34m<http://conflicted.r-lib.org/>\u001b[39m\u001b[23m) to force all conflicts to become errors\n"
     ]
    }
   ],
   "source": [
    "library(\"tidyverse\")"
   ]
  },
  {
   "cell_type": "markdown",
   "id": "f27ec561-76e3-40a1-a6de-e55c5d690b15",
   "metadata": {},
   "source": [
    "## Load data"
   ]
  },
  {
   "cell_type": "code",
   "execution_count": 2,
   "id": "f364be12-dbec-4a3a-b63c-df8d9061ba39",
   "metadata": {
    "editable": true,
    "slideshow": {
     "slide_type": ""
    },
    "tags": []
   },
   "outputs": [
    {
     "name": "stderr",
     "output_type": "stream",
     "text": [
      "\u001b[1mRows: \u001b[22m\u001b[34m7412021\u001b[39m \u001b[1mColumns: \u001b[22m\u001b[34m24\u001b[39m\n",
      "\u001b[36m──\u001b[39m \u001b[1mColumn specification\u001b[22m \u001b[36m─────────────────────────────────────────────────────────────────────────────────────────────────────────────────────────────────────────────────────────────────────────────────────────────\u001b[39m\n",
      "\u001b[1mDelimiter:\u001b[22m \",\"\n",
      "\u001b[31mchr\u001b[39m  (6): chr, TargetGene, TargetGene_name, PeakID, PeakID_seqnames, combo\n",
      "\u001b[32mdbl\u001b[39m (18): start, end, activity_base, TargetGeneTSS, TargetGenePromoterActivi...\n",
      "\n",
      "\u001b[36mℹ\u001b[39m Use `spec()` to retrieve the full column specification for this data.\n",
      "\u001b[36mℹ\u001b[39m Specify the column types or set `show_col_types = FALSE` to quiet this message.\n"
     ]
    }
   ],
   "source": [
    "panos = read_delim(\"./panos_annotation/ABC_results_ASSOCIATIONS_ALL_CPM1_RK_12_2_20.csv.gz\")"
   ]
  },
  {
   "cell_type": "code",
   "execution_count": 3,
   "id": "62b0b4c0-104c-4cca-b5d3-200862f0b166",
   "metadata": {
    "editable": true,
    "slideshow": {
     "slide_type": ""
    },
    "tags": []
   },
   "outputs": [],
   "source": [
    "mic_enh = read.delim(\"microglia_hg38.Enh.Nott.tsv\")"
   ]
  },
  {
   "cell_type": "code",
   "execution_count": 4,
   "id": "ca77917a-2a0b-4f0f-82df-5d17ac559a86",
   "metadata": {},
   "outputs": [],
   "source": [
    "mic_prom = read.delim(\"microglia_hg38.Prom.Nott.tsv\")"
   ]
  },
  {
   "cell_type": "markdown",
   "id": "335ce7d2-589b-4853-9509-349e1861949d",
   "metadata": {},
   "source": [
    "## Intersection region"
   ]
  },
  {
   "cell_type": "code",
   "execution_count": 5,
   "id": "39019bbc-9a0c-4865-90e3-8bdad1ca5f0d",
   "metadata": {},
   "outputs": [],
   "source": [
    "panos_region = panos%>%select(chr,start,end)%>%unique"
   ]
  },
  {
   "cell_type": "code",
   "execution_count": null,
   "id": "0b341965-6d4a-4b1d-8d52-cdbd9d89647c",
   "metadata": {},
   "outputs": [],
   "source": []
  },
  {
   "cell_type": "code",
   "execution_count": 6,
   "id": "60273278-e283-48f1-ba8b-86a2106a8353",
   "metadata": {},
   "outputs": [
    {
     "name": "stderr",
     "output_type": "stream",
     "text": [
      "Warning message in inner_join(panos_region, mic_enh, by = \"chr\"):\n",
      "“\u001b[1m\u001b[22mDetected an unexpected many-to-many relationship between `x` and `y`.\n",
      "\u001b[36mℹ\u001b[39m Row 1 of `x` matches multiple rows in `y`.\n",
      "\u001b[36mℹ\u001b[39m Row 1 of `y` matches multiple rows in `x`.\n",
      "\u001b[36mℹ\u001b[39m If a many-to-many relationship is expected, set `relationship = \"many-to-many\"` to silence this warning.”\n"
     ]
    }
   ],
   "source": [
    "panos_enh = inner_join(panos_region,mic_enh, by = \"chr\")"
   ]
  },
  {
   "cell_type": "code",
   "execution_count": 11,
   "id": "faae47bb-7eee-40f2-8ff8-591c72650c64",
   "metadata": {},
   "outputs": [
    {
     "data": {
      "text/html": [
       "<table class=\"dataframe\">\n",
       "<caption>A data.frame: 17 × 4</caption>\n",
       "<thead>\n",
       "\t<tr><th scope=col>X</th><th scope=col>chr</th><th scope=col>start</th><th scope=col>end</th></tr>\n",
       "\t<tr><th scope=col>&lt;int&gt;</th><th scope=col>&lt;chr&gt;</th><th scope=col>&lt;int&gt;</th><th scope=col>&lt;int&gt;</th></tr>\n",
       "</thead>\n",
       "<tbody>\n",
       "\t<tr><td> 2284</td><td>chr1 </td><td>        0</td><td>144925589</td></tr>\n",
       "\t<tr><td> 2300</td><td>chr1 </td><td>149103586</td><td>        0</td></tr>\n",
       "\t<tr><td> 2358</td><td>chr1 </td><td>        0</td><td>148319031</td></tr>\n",
       "\t<tr><td>17793</td><td>chr17</td><td>        0</td><td>        0</td></tr>\n",
       "\t<tr><td>17794</td><td>chr17</td><td>        0</td><td>        0</td></tr>\n",
       "\t<tr><td>17795</td><td>chr17</td><td>        0</td><td>        0</td></tr>\n",
       "\t<tr><td>17796</td><td>chr17</td><td>        0</td><td>        0</td></tr>\n",
       "\t<tr><td>17797</td><td>chr17</td><td>        0</td><td>        0</td></tr>\n",
       "\t<tr><td>21226</td><td>chr19</td><td>        0</td><td> 39898671</td></tr>\n",
       "\t<tr><td>21821</td><td>chr19</td><td>        0</td><td> 54097498</td></tr>\n",
       "\t<tr><td>21852</td><td>chr19</td><td> 54343191</td><td>        0</td></tr>\n",
       "\t<tr><td>27315</td><td>chr22</td><td>        0</td><td>        0</td></tr>\n",
       "\t<tr><td>27316</td><td>chr22</td><td>        0</td><td>        0</td></tr>\n",
       "\t<tr><td>28038</td><td>chr22</td><td> 49970915</td><td>        0</td></tr>\n",
       "\t<tr><td>38186</td><td>chr7 </td><td>        0</td><td> 72805969</td></tr>\n",
       "\t<tr><td>39076</td><td>chr7 </td><td>        0</td><td>        0</td></tr>\n",
       "\t<tr><td>40991</td><td>chr8 </td><td>143855527</td><td>        0</td></tr>\n",
       "</tbody>\n",
       "</table>\n"
      ],
      "text/latex": [
       "A data.frame: 17 × 4\n",
       "\\begin{tabular}{llll}\n",
       " X & chr & start & end\\\\\n",
       " <int> & <chr> & <int> & <int>\\\\\n",
       "\\hline\n",
       "\t  2284 & chr1  &         0 & 144925589\\\\\n",
       "\t  2300 & chr1  & 149103586 &         0\\\\\n",
       "\t  2358 & chr1  &         0 & 148319031\\\\\n",
       "\t 17793 & chr17 &         0 &         0\\\\\n",
       "\t 17794 & chr17 &         0 &         0\\\\\n",
       "\t 17795 & chr17 &         0 &         0\\\\\n",
       "\t 17796 & chr17 &         0 &         0\\\\\n",
       "\t 17797 & chr17 &         0 &         0\\\\\n",
       "\t 21226 & chr19 &         0 &  39898671\\\\\n",
       "\t 21821 & chr19 &         0 &  54097498\\\\\n",
       "\t 21852 & chr19 &  54343191 &         0\\\\\n",
       "\t 27315 & chr22 &         0 &         0\\\\\n",
       "\t 27316 & chr22 &         0 &         0\\\\\n",
       "\t 28038 & chr22 &  49970915 &         0\\\\\n",
       "\t 38186 & chr7  &         0 &  72805969\\\\\n",
       "\t 39076 & chr7  &         0 &         0\\\\\n",
       "\t 40991 & chr8  & 143855527 &         0\\\\\n",
       "\\end{tabular}\n"
      ],
      "text/markdown": [
       "\n",
       "A data.frame: 17 × 4\n",
       "\n",
       "| X &lt;int&gt; | chr &lt;chr&gt; | start &lt;int&gt; | end &lt;int&gt; |\n",
       "|---|---|---|---|\n",
       "|  2284 | chr1  |         0 | 144925589 |\n",
       "|  2300 | chr1  | 149103586 |         0 |\n",
       "|  2358 | chr1  |         0 | 148319031 |\n",
       "| 17793 | chr17 |         0 |         0 |\n",
       "| 17794 | chr17 |         0 |         0 |\n",
       "| 17795 | chr17 |         0 |         0 |\n",
       "| 17796 | chr17 |         0 |         0 |\n",
       "| 17797 | chr17 |         0 |         0 |\n",
       "| 21226 | chr19 |         0 |  39898671 |\n",
       "| 21821 | chr19 |         0 |  54097498 |\n",
       "| 21852 | chr19 |  54343191 |         0 |\n",
       "| 27315 | chr22 |         0 |         0 |\n",
       "| 27316 | chr22 |         0 |         0 |\n",
       "| 28038 | chr22 |  49970915 |         0 |\n",
       "| 38186 | chr7  |         0 |  72805969 |\n",
       "| 39076 | chr7  |         0 |         0 |\n",
       "| 40991 | chr8  | 143855527 |         0 |\n",
       "\n"
      ],
      "text/plain": [
       "   X     chr   start     end      \n",
       "1   2284 chr1          0 144925589\n",
       "2   2300 chr1  149103586         0\n",
       "3   2358 chr1          0 148319031\n",
       "4  17793 chr17         0         0\n",
       "5  17794 chr17         0         0\n",
       "6  17795 chr17         0         0\n",
       "7  17796 chr17         0         0\n",
       "8  17797 chr17         0         0\n",
       "9  21226 chr19         0  39898671\n",
       "10 21821 chr19         0  54097498\n",
       "11 21852 chr19  54343191         0\n",
       "12 27315 chr22         0         0\n",
       "13 27316 chr22         0         0\n",
       "14 28038 chr22  49970915         0\n",
       "15 38186 chr7          0  72805969\n",
       "16 39076 chr7          0         0\n",
       "17 40991 chr8  143855527         0"
      ]
     },
     "metadata": {},
     "output_type": "display_data"
    }
   ],
   "source": [
    "mic_enh%>%filter(start == 0 | end == 0)"
   ]
  },
  {
   "cell_type": "code",
   "execution_count": 13,
   "id": "f04a93b0-82fc-40e9-a9ad-8fc86d40e259",
   "metadata": {},
   "outputs": [],
   "source": [
    "panos_enh = panos_enh%>%filter((end.x > start.y & end.x < end.y) | # ABC right overlap  with Annot left\n",
    "                   (end.y > start.x & end.y < end.x  ) | # ABC left overlap  with Annot right\n",
    "                   (start.y > start.x & end.y < end.x  ) | # Annot contained by  ABC \n",
    "                    (start.x > start.y & end.x < end.y  )   # ABC contained by  Annot \n",
    "                   )%>%filter(start.y != 0 , end.y != 0 ) # Rid of annot failure"
   ]
  },
  {
   "cell_type": "code",
   "execution_count": 16,
   "id": "796540df-a368-46f1-90bd-c936a999c91c",
   "metadata": {},
   "outputs": [],
   "source": [
    "panos_enh%>%write_delim(\"ABC_overlap_Annot_Enh.tsv\",\"\\t\")"
   ]
  },
  {
   "cell_type": "code",
   "execution_count": 17,
   "id": "10a3f103-2b33-472c-8724-0ffc29e9fee1",
   "metadata": {
    "editable": true,
    "slideshow": {
     "slide_type": ""
    },
    "tags": []
   },
   "outputs": [
    {
     "name": "stderr",
     "output_type": "stream",
     "text": [
      "Warning message in inner_join(panos_region, mic_prom, by = \"chr\"):\n",
      "“\u001b[1m\u001b[22mDetected an unexpected many-to-many relationship between `x` and `y`.\n",
      "\u001b[36mℹ\u001b[39m Row 1 of `x` matches multiple rows in `y`.\n",
      "\u001b[36mℹ\u001b[39m Row 1 of `y` matches multiple rows in `x`.\n",
      "\u001b[36mℹ\u001b[39m If a many-to-many relationship is expected, set `relationship = \"many-to-many\"` to silence this warning.”\n"
     ]
    }
   ],
   "source": [
    "panos_prom  = inner_join(panos_region,mic_prom, by = \"chr\")%>%filter((end.x > start.y & end.x < end.y) | # ABC right overlap  with Annot left\n",
    "                   (end.y > start.x & end.y < end.x  ) | # ABC left overlap  with Annot right\n",
    "                   (start.y > start.x & end.y < end.x  ) | # Annot contained by  ABC \n",
    "                    (start.x > start.y & end.x < end.y  )   # ABC contained by  Annot \n",
    "                   )%>%filter(start.y != 0 , end.y != 0 ) # Rid of annot failure"
   ]
  },
  {
   "cell_type": "code",
   "execution_count": 18,
   "id": "3806f91b-5c38-4bb8-b8d7-e9569ff2d5ff",
   "metadata": {
    "editable": true,
    "slideshow": {
     "slide_type": ""
    },
    "tags": []
   },
   "outputs": [],
   "source": [
    "panos_prom%>%write_delim(\"ABC_overlap_Annot_prom.tsv\",\"\\t\")"
   ]
  },
  {
   "cell_type": "code",
   "execution_count": 21,
   "id": "858b236f-b73a-4ef8-a31a-3aa12b3c8f57",
   "metadata": {},
   "outputs": [],
   "source": [
    "panos_region_overlapped = rbind(panos_enh%>%mutate(type = \"Enh\"), panos_prom%>%mutate(type = \"Prom\"))"
   ]
  },
  {
   "cell_type": "code",
   "execution_count": 22,
   "id": "50bebe90-5c47-44a4-99ec-9683f5288d09",
   "metadata": {},
   "outputs": [],
   "source": [
    "panos_region_overlapped%>%write_delim(\"ABC_overlap_Annot_overlap.tsv\",\"\\t\")"
   ]
  },
  {
   "cell_type": "code",
   "execution_count": 36,
   "id": "4ed1c3f3-37d9-4a02-89dc-ebab676d323d",
   "metadata": {
    "editable": true,
    "slideshow": {
     "slide_type": ""
    },
    "tags": []
   },
   "outputs": [
    {
     "data": {
      "text/html": [
       "<table class=\"dataframe\">\n",
       "<caption>A tibble: 9 × 7</caption>\n",
       "<thead>\n",
       "\t<tr><th scope=col>chr</th><th scope=col>start.x</th><th scope=col>end.x</th><th scope=col>X</th><th scope=col>start.y</th><th scope=col>end.y</th><th scope=col>type</th></tr>\n",
       "\t<tr><th scope=col>&lt;chr&gt;</th><th scope=col>&lt;dbl&gt;</th><th scope=col>&lt;dbl&gt;</th><th scope=col>&lt;int&gt;</th><th scope=col>&lt;int&gt;</th><th scope=col>&lt;int&gt;</th><th scope=col>&lt;chr&gt;</th></tr>\n",
       "</thead>\n",
       "<tbody>\n",
       "\t<tr><td>chr15</td><td>33201739</td><td>33202238</td><td>13884</td><td>33201604</td><td>33202212</td><td>Enh </td></tr>\n",
       "\t<tr><td>chr15</td><td>33150992</td><td>33151491</td><td>13880</td><td>33150482</td><td>33156242</td><td>Enh </td></tr>\n",
       "\t<tr><td>chr15</td><td>33152434</td><td>33152933</td><td>13880</td><td>33150482</td><td>33156242</td><td>Enh </td></tr>\n",
       "\t<tr><td>chr15</td><td>33022503</td><td>33023002</td><td>13877</td><td>33021175</td><td>33023225</td><td>Enh </td></tr>\n",
       "\t<tr><td>chr15</td><td>33005502</td><td>33006001</td><td>13876</td><td>33004966</td><td>33009295</td><td>Enh </td></tr>\n",
       "\t<tr><td>chr15</td><td>33007272</td><td>33007771</td><td>13876</td><td>33004966</td><td>33009295</td><td>Enh </td></tr>\n",
       "\t<tr><td>chr15</td><td>33158315</td><td>33158814</td><td>13882</td><td>33158641</td><td>33158951</td><td>Enh </td></tr>\n",
       "\t<tr><td>chr15</td><td>33029429</td><td>33029928</td><td>13878</td><td>33029188</td><td>33029964</td><td>Enh </td></tr>\n",
       "\t<tr><td>chr15</td><td>33066606</td><td>33067105</td><td> 3811</td><td>33065785</td><td>33068812</td><td>Prom</td></tr>\n",
       "</tbody>\n",
       "</table>\n"
      ],
      "text/latex": [
       "A tibble: 9 × 7\n",
       "\\begin{tabular}{lllllll}\n",
       " chr & start.x & end.x & X & start.y & end.y & type\\\\\n",
       " <chr> & <dbl> & <dbl> & <int> & <int> & <int> & <chr>\\\\\n",
       "\\hline\n",
       "\t chr15 & 33201739 & 33202238 & 13884 & 33201604 & 33202212 & Enh \\\\\n",
       "\t chr15 & 33150992 & 33151491 & 13880 & 33150482 & 33156242 & Enh \\\\\n",
       "\t chr15 & 33152434 & 33152933 & 13880 & 33150482 & 33156242 & Enh \\\\\n",
       "\t chr15 & 33022503 & 33023002 & 13877 & 33021175 & 33023225 & Enh \\\\\n",
       "\t chr15 & 33005502 & 33006001 & 13876 & 33004966 & 33009295 & Enh \\\\\n",
       "\t chr15 & 33007272 & 33007771 & 13876 & 33004966 & 33009295 & Enh \\\\\n",
       "\t chr15 & 33158315 & 33158814 & 13882 & 33158641 & 33158951 & Enh \\\\\n",
       "\t chr15 & 33029429 & 33029928 & 13878 & 33029188 & 33029964 & Enh \\\\\n",
       "\t chr15 & 33066606 & 33067105 &  3811 & 33065785 & 33068812 & Prom\\\\\n",
       "\\end{tabular}\n"
      ],
      "text/markdown": [
       "\n",
       "A tibble: 9 × 7\n",
       "\n",
       "| chr &lt;chr&gt; | start.x &lt;dbl&gt; | end.x &lt;dbl&gt; | X &lt;int&gt; | start.y &lt;int&gt; | end.y &lt;int&gt; | type &lt;chr&gt; |\n",
       "|---|---|---|---|---|---|---|\n",
       "| chr15 | 33201739 | 33202238 | 13884 | 33201604 | 33202212 | Enh  |\n",
       "| chr15 | 33150992 | 33151491 | 13880 | 33150482 | 33156242 | Enh  |\n",
       "| chr15 | 33152434 | 33152933 | 13880 | 33150482 | 33156242 | Enh  |\n",
       "| chr15 | 33022503 | 33023002 | 13877 | 33021175 | 33023225 | Enh  |\n",
       "| chr15 | 33005502 | 33006001 | 13876 | 33004966 | 33009295 | Enh  |\n",
       "| chr15 | 33007272 | 33007771 | 13876 | 33004966 | 33009295 | Enh  |\n",
       "| chr15 | 33158315 | 33158814 | 13882 | 33158641 | 33158951 | Enh  |\n",
       "| chr15 | 33029429 | 33029928 | 13878 | 33029188 | 33029964 | Enh  |\n",
       "| chr15 | 33066606 | 33067105 |  3811 | 33065785 | 33068812 | Prom |\n",
       "\n"
      ],
      "text/plain": [
       "  chr   start.x  end.x    X     start.y  end.y    type\n",
       "1 chr15 33201739 33202238 13884 33201604 33202212 Enh \n",
       "2 chr15 33150992 33151491 13880 33150482 33156242 Enh \n",
       "3 chr15 33152434 33152933 13880 33150482 33156242 Enh \n",
       "4 chr15 33022503 33023002 13877 33021175 33023225 Enh \n",
       "5 chr15 33005502 33006001 13876 33004966 33009295 Enh \n",
       "6 chr15 33007272 33007771 13876 33004966 33009295 Enh \n",
       "7 chr15 33158315 33158814 13882 33158641 33158951 Enh \n",
       "8 chr15 33029429 33029928 13878 33029188 33029964 Enh \n",
       "9 chr15 33066606 33067105  3811 33065785 33068812 Prom"
      ]
     },
     "metadata": {},
     "output_type": "display_data"
    }
   ],
   "source": [
    "panos_region_overlapped%>%filter(chr ==\"chr15\", start.x > 33000000, end.x < 34000000 )"
   ]
  },
  {
   "cell_type": "code",
   "execution_count": 34,
   "id": "e85004b3-85f7-4392-b062-559b89008ee2",
   "metadata": {
    "editable": true,
    "slideshow": {
     "slide_type": ""
    },
    "tags": []
   },
   "outputs": [
    {
     "data": {
      "text/html": [
       "<table class=\"dataframe\">\n",
       "<caption>A spec_tbl_df: 9 × 24</caption>\n",
       "<thead>\n",
       "\t<tr><th scope=col>chr</th><th scope=col>start</th><th scope=col>end</th><th scope=col>activity_base</th><th scope=col>TargetGene</th><th scope=col>TargetGene_name</th><th scope=col>TargetGeneTSS</th><th scope=col>TargetGenePromoterActivityQuantile</th><th scope=col>distance</th><th scope=col>PeakID</th><th scope=col>⋯</th><th scope=col>ABC.Score</th><th scope=col>powerlaw_contact</th><th scope=col>powerlaw_contact_reference</th><th scope=col>hic_contact</th><th scope=col>hic_contact_pl_scaled</th><th scope=col>hic_pseudocount</th><th scope=col>hic_contact_pl_scaled_adj</th><th scope=col>ABC.Score.Numerator</th><th scope=col>powerlaw.Score.Numerator</th><th scope=col>powerlaw.Score</th></tr>\n",
       "\t<tr><th scope=col>&lt;chr&gt;</th><th scope=col>&lt;dbl&gt;</th><th scope=col>&lt;dbl&gt;</th><th scope=col>&lt;dbl&gt;</th><th scope=col>&lt;chr&gt;</th><th scope=col>&lt;chr&gt;</th><th scope=col>&lt;dbl&gt;</th><th scope=col>&lt;dbl&gt;</th><th scope=col>&lt;dbl&gt;</th><th scope=col>&lt;chr&gt;</th><th scope=col>⋯</th><th scope=col>&lt;dbl&gt;</th><th scope=col>&lt;dbl&gt;</th><th scope=col>&lt;dbl&gt;</th><th scope=col>&lt;dbl&gt;</th><th scope=col>&lt;dbl&gt;</th><th scope=col>&lt;dbl&gt;</th><th scope=col>&lt;dbl&gt;</th><th scope=col>&lt;dbl&gt;</th><th scope=col>&lt;dbl&gt;</th><th scope=col>&lt;dbl&gt;</th></tr>\n",
       "</thead>\n",
       "<tbody>\n",
       "\t<tr><td>chr15</td><td>33201739</td><td>33202238</td><td>1.411447</td><td>ENSG00000248905</td><td>FMN1</td><td>33194733</td><td>0.899655</td><td>  7255.5</td><td>Peak_61095</td><td>⋯</td><td>0.054683</td><td>0.089287</td><td>0.089287</td><td>0.067544</td><td>0.067544</td><td>0.001229</td><td>0.068773</td><td>0.097069</td><td>0.126024</td><td>0.080638</td></tr>\n",
       "\t<tr><td>chr15</td><td>33150992</td><td>33151491</td><td>2.223208</td><td>ENSG00000248905</td><td>FMN1</td><td>33194733</td><td>0.899655</td><td> 43491.5</td><td>Peak_61088</td><td>⋯</td><td>0.026866</td><td>0.018802</td><td>0.018802</td><td>0.020222</td><td>0.020222</td><td>0.001229</td><td>0.021451</td><td>0.047690</td><td>0.041800</td><td>0.026746</td></tr>\n",
       "\t<tr><td>chr15</td><td>33152434</td><td>33152933</td><td>1.969647</td><td>ENSG00000248905</td><td>FMN1</td><td>33194733</td><td>0.899655</td><td> 42049.5</td><td>Peak_61089</td><td>⋯</td><td>0.023802</td><td>0.019362</td><td>0.019362</td><td>0.020222</td><td>0.020222</td><td>0.001229</td><td>0.021451</td><td>0.042251</td><td>0.038135</td><td>0.024401</td></tr>\n",
       "\t<tr><td>chr15</td><td>33158315</td><td>33158814</td><td>0.721119</td><td>ENSG00000248905</td><td>FMN1</td><td>33194733</td><td>0.899655</td><td> 36168.5</td><td>Peak_61091</td><td>⋯</td><td>0.009726</td><td>0.022073</td><td>0.022073</td><td>0.022713</td><td>0.022713</td><td>0.001229</td><td>0.023942</td><td>0.017265</td><td>0.015917</td><td>0.010185</td></tr>\n",
       "\t<tr><td>chr15</td><td>33005502</td><td>33006001</td><td>2.377608</td><td>ENSG00000248905</td><td>FMN1</td><td>33194733</td><td>0.899655</td><td>188981.5</td><td>Peak_61073</td><td>⋯</td><td>0.008793</td><td>0.005238</td><td>0.005238</td><td>0.005336</td><td>0.005336</td><td>0.001229</td><td>0.006565</td><td>0.015608</td><td>0.012453</td><td>0.007968</td></tr>\n",
       "\t<tr><td>chr15</td><td>33022503</td><td>33023002</td><td>2.183530</td><td>ENSG00000248905</td><td>FMN1</td><td>33194733</td><td>0.899655</td><td>171980.5</td><td>Peak_61075</td><td>⋯</td><td>0.008576</td><td>0.005685</td><td>0.005685</td><td>0.005743</td><td>0.005743</td><td>0.001229</td><td>0.006972</td><td>0.015224</td><td>0.012414</td><td>0.007943</td></tr>\n",
       "\t<tr><td>chr15</td><td>33007272</td><td>33007771</td><td>1.644320</td><td>ENSG00000248905</td><td>FMN1</td><td>33194733</td><td>0.899655</td><td>187211.5</td><td>Peak_61074</td><td>⋯</td><td>0.006081</td><td>0.005281</td><td>0.005281</td><td>0.005336</td><td>0.005336</td><td>0.001229</td><td>0.006565</td><td>0.010795</td><td>0.008683</td><td>0.005556</td></tr>\n",
       "\t<tr><td>chr15</td><td>33066606</td><td>33067105</td><td>0.954817</td><td>ENSG00000248905</td><td>FMN1</td><td>33194733</td><td>0.899655</td><td>127877.5</td><td>Peak_61080</td><td>⋯</td><td>0.004698</td><td>0.007357</td><td>0.007357</td><td>0.007504</td><td>0.007504</td><td>0.001229</td><td>0.008733</td><td>0.008339</td><td>0.007025</td><td>0.004495</td></tr>\n",
       "\t<tr><td>chr15</td><td>33029429</td><td>33029928</td><td>0.715952</td><td>ENSG00000248905</td><td>FMN1</td><td>33194733</td><td>0.899655</td><td>165054.5</td><td>Peak_61076</td><td>⋯</td><td>0.002873</td><td>0.005892</td><td>0.005892</td><td>0.005894</td><td>0.005894</td><td>0.001229</td><td>0.007123</td><td>0.005100</td><td>0.004219</td><td>0.002699</td></tr>\n",
       "</tbody>\n",
       "</table>\n"
      ],
      "text/latex": [
       "A spec\\_tbl\\_df: 9 × 24\n",
       "\\begin{tabular}{lllllllllllllllllllll}\n",
       " chr & start & end & activity\\_base & TargetGene & TargetGene\\_name & TargetGeneTSS & TargetGenePromoterActivityQuantile & distance & PeakID & ⋯ & ABC.Score & powerlaw\\_contact & powerlaw\\_contact\\_reference & hic\\_contact & hic\\_contact\\_pl\\_scaled & hic\\_pseudocount & hic\\_contact\\_pl\\_scaled\\_adj & ABC.Score.Numerator & powerlaw.Score.Numerator & powerlaw.Score\\\\\n",
       " <chr> & <dbl> & <dbl> & <dbl> & <chr> & <chr> & <dbl> & <dbl> & <dbl> & <chr> & ⋯ & <dbl> & <dbl> & <dbl> & <dbl> & <dbl> & <dbl> & <dbl> & <dbl> & <dbl> & <dbl>\\\\\n",
       "\\hline\n",
       "\t chr15 & 33201739 & 33202238 & 1.411447 & ENSG00000248905 & FMN1 & 33194733 & 0.899655 &   7255.5 & Peak\\_61095 & ⋯ & 0.054683 & 0.089287 & 0.089287 & 0.067544 & 0.067544 & 0.001229 & 0.068773 & 0.097069 & 0.126024 & 0.080638\\\\\n",
       "\t chr15 & 33150992 & 33151491 & 2.223208 & ENSG00000248905 & FMN1 & 33194733 & 0.899655 &  43491.5 & Peak\\_61088 & ⋯ & 0.026866 & 0.018802 & 0.018802 & 0.020222 & 0.020222 & 0.001229 & 0.021451 & 0.047690 & 0.041800 & 0.026746\\\\\n",
       "\t chr15 & 33152434 & 33152933 & 1.969647 & ENSG00000248905 & FMN1 & 33194733 & 0.899655 &  42049.5 & Peak\\_61089 & ⋯ & 0.023802 & 0.019362 & 0.019362 & 0.020222 & 0.020222 & 0.001229 & 0.021451 & 0.042251 & 0.038135 & 0.024401\\\\\n",
       "\t chr15 & 33158315 & 33158814 & 0.721119 & ENSG00000248905 & FMN1 & 33194733 & 0.899655 &  36168.5 & Peak\\_61091 & ⋯ & 0.009726 & 0.022073 & 0.022073 & 0.022713 & 0.022713 & 0.001229 & 0.023942 & 0.017265 & 0.015917 & 0.010185\\\\\n",
       "\t chr15 & 33005502 & 33006001 & 2.377608 & ENSG00000248905 & FMN1 & 33194733 & 0.899655 & 188981.5 & Peak\\_61073 & ⋯ & 0.008793 & 0.005238 & 0.005238 & 0.005336 & 0.005336 & 0.001229 & 0.006565 & 0.015608 & 0.012453 & 0.007968\\\\\n",
       "\t chr15 & 33022503 & 33023002 & 2.183530 & ENSG00000248905 & FMN1 & 33194733 & 0.899655 & 171980.5 & Peak\\_61075 & ⋯ & 0.008576 & 0.005685 & 0.005685 & 0.005743 & 0.005743 & 0.001229 & 0.006972 & 0.015224 & 0.012414 & 0.007943\\\\\n",
       "\t chr15 & 33007272 & 33007771 & 1.644320 & ENSG00000248905 & FMN1 & 33194733 & 0.899655 & 187211.5 & Peak\\_61074 & ⋯ & 0.006081 & 0.005281 & 0.005281 & 0.005336 & 0.005336 & 0.001229 & 0.006565 & 0.010795 & 0.008683 & 0.005556\\\\\n",
       "\t chr15 & 33066606 & 33067105 & 0.954817 & ENSG00000248905 & FMN1 & 33194733 & 0.899655 & 127877.5 & Peak\\_61080 & ⋯ & 0.004698 & 0.007357 & 0.007357 & 0.007504 & 0.007504 & 0.001229 & 0.008733 & 0.008339 & 0.007025 & 0.004495\\\\\n",
       "\t chr15 & 33029429 & 33029928 & 0.715952 & ENSG00000248905 & FMN1 & 33194733 & 0.899655 & 165054.5 & Peak\\_61076 & ⋯ & 0.002873 & 0.005892 & 0.005892 & 0.005894 & 0.005894 & 0.001229 & 0.007123 & 0.005100 & 0.004219 & 0.002699\\\\\n",
       "\\end{tabular}\n"
      ],
      "text/markdown": [
       "\n",
       "A spec_tbl_df: 9 × 24\n",
       "\n",
       "| chr &lt;chr&gt; | start &lt;dbl&gt; | end &lt;dbl&gt; | activity_base &lt;dbl&gt; | TargetGene &lt;chr&gt; | TargetGene_name &lt;chr&gt; | TargetGeneTSS &lt;dbl&gt; | TargetGenePromoterActivityQuantile &lt;dbl&gt; | distance &lt;dbl&gt; | PeakID &lt;chr&gt; | ⋯ ⋯ | ABC.Score &lt;dbl&gt; | powerlaw_contact &lt;dbl&gt; | powerlaw_contact_reference &lt;dbl&gt; | hic_contact &lt;dbl&gt; | hic_contact_pl_scaled &lt;dbl&gt; | hic_pseudocount &lt;dbl&gt; | hic_contact_pl_scaled_adj &lt;dbl&gt; | ABC.Score.Numerator &lt;dbl&gt; | powerlaw.Score.Numerator &lt;dbl&gt; | powerlaw.Score &lt;dbl&gt; |\n",
       "|---|---|---|---|---|---|---|---|---|---|---|---|---|---|---|---|---|---|---|---|---|\n",
       "| chr15 | 33201739 | 33202238 | 1.411447 | ENSG00000248905 | FMN1 | 33194733 | 0.899655 |   7255.5 | Peak_61095 | ⋯ | 0.054683 | 0.089287 | 0.089287 | 0.067544 | 0.067544 | 0.001229 | 0.068773 | 0.097069 | 0.126024 | 0.080638 |\n",
       "| chr15 | 33150992 | 33151491 | 2.223208 | ENSG00000248905 | FMN1 | 33194733 | 0.899655 |  43491.5 | Peak_61088 | ⋯ | 0.026866 | 0.018802 | 0.018802 | 0.020222 | 0.020222 | 0.001229 | 0.021451 | 0.047690 | 0.041800 | 0.026746 |\n",
       "| chr15 | 33152434 | 33152933 | 1.969647 | ENSG00000248905 | FMN1 | 33194733 | 0.899655 |  42049.5 | Peak_61089 | ⋯ | 0.023802 | 0.019362 | 0.019362 | 0.020222 | 0.020222 | 0.001229 | 0.021451 | 0.042251 | 0.038135 | 0.024401 |\n",
       "| chr15 | 33158315 | 33158814 | 0.721119 | ENSG00000248905 | FMN1 | 33194733 | 0.899655 |  36168.5 | Peak_61091 | ⋯ | 0.009726 | 0.022073 | 0.022073 | 0.022713 | 0.022713 | 0.001229 | 0.023942 | 0.017265 | 0.015917 | 0.010185 |\n",
       "| chr15 | 33005502 | 33006001 | 2.377608 | ENSG00000248905 | FMN1 | 33194733 | 0.899655 | 188981.5 | Peak_61073 | ⋯ | 0.008793 | 0.005238 | 0.005238 | 0.005336 | 0.005336 | 0.001229 | 0.006565 | 0.015608 | 0.012453 | 0.007968 |\n",
       "| chr15 | 33022503 | 33023002 | 2.183530 | ENSG00000248905 | FMN1 | 33194733 | 0.899655 | 171980.5 | Peak_61075 | ⋯ | 0.008576 | 0.005685 | 0.005685 | 0.005743 | 0.005743 | 0.001229 | 0.006972 | 0.015224 | 0.012414 | 0.007943 |\n",
       "| chr15 | 33007272 | 33007771 | 1.644320 | ENSG00000248905 | FMN1 | 33194733 | 0.899655 | 187211.5 | Peak_61074 | ⋯ | 0.006081 | 0.005281 | 0.005281 | 0.005336 | 0.005336 | 0.001229 | 0.006565 | 0.010795 | 0.008683 | 0.005556 |\n",
       "| chr15 | 33066606 | 33067105 | 0.954817 | ENSG00000248905 | FMN1 | 33194733 | 0.899655 | 127877.5 | Peak_61080 | ⋯ | 0.004698 | 0.007357 | 0.007357 | 0.007504 | 0.007504 | 0.001229 | 0.008733 | 0.008339 | 0.007025 | 0.004495 |\n",
       "| chr15 | 33029429 | 33029928 | 0.715952 | ENSG00000248905 | FMN1 | 33194733 | 0.899655 | 165054.5 | Peak_61076 | ⋯ | 0.002873 | 0.005892 | 0.005892 | 0.005894 | 0.005894 | 0.001229 | 0.007123 | 0.005100 | 0.004219 | 0.002699 |\n",
       "\n"
      ],
      "text/plain": [
       "  chr   start    end      activity_base TargetGene      TargetGene_name\n",
       "1 chr15 33201739 33202238 1.411447      ENSG00000248905 FMN1           \n",
       "2 chr15 33150992 33151491 2.223208      ENSG00000248905 FMN1           \n",
       "3 chr15 33152434 33152933 1.969647      ENSG00000248905 FMN1           \n",
       "4 chr15 33158315 33158814 0.721119      ENSG00000248905 FMN1           \n",
       "5 chr15 33005502 33006001 2.377608      ENSG00000248905 FMN1           \n",
       "6 chr15 33022503 33023002 2.183530      ENSG00000248905 FMN1           \n",
       "7 chr15 33007272 33007771 1.644320      ENSG00000248905 FMN1           \n",
       "8 chr15 33066606 33067105 0.954817      ENSG00000248905 FMN1           \n",
       "9 chr15 33029429 33029928 0.715952      ENSG00000248905 FMN1           \n",
       "  TargetGeneTSS TargetGenePromoterActivityQuantile distance PeakID     ⋯\n",
       "1 33194733      0.899655                             7255.5 Peak_61095 ⋯\n",
       "2 33194733      0.899655                            43491.5 Peak_61088 ⋯\n",
       "3 33194733      0.899655                            42049.5 Peak_61089 ⋯\n",
       "4 33194733      0.899655                            36168.5 Peak_61091 ⋯\n",
       "5 33194733      0.899655                           188981.5 Peak_61073 ⋯\n",
       "6 33194733      0.899655                           171980.5 Peak_61075 ⋯\n",
       "7 33194733      0.899655                           187211.5 Peak_61074 ⋯\n",
       "8 33194733      0.899655                           127877.5 Peak_61080 ⋯\n",
       "9 33194733      0.899655                           165054.5 Peak_61076 ⋯\n",
       "  ABC.Score powerlaw_contact powerlaw_contact_reference hic_contact\n",
       "1 0.054683  0.089287         0.089287                   0.067544   \n",
       "2 0.026866  0.018802         0.018802                   0.020222   \n",
       "3 0.023802  0.019362         0.019362                   0.020222   \n",
       "4 0.009726  0.022073         0.022073                   0.022713   \n",
       "5 0.008793  0.005238         0.005238                   0.005336   \n",
       "6 0.008576  0.005685         0.005685                   0.005743   \n",
       "7 0.006081  0.005281         0.005281                   0.005336   \n",
       "8 0.004698  0.007357         0.007357                   0.007504   \n",
       "9 0.002873  0.005892         0.005892                   0.005894   \n",
       "  hic_contact_pl_scaled hic_pseudocount hic_contact_pl_scaled_adj\n",
       "1 0.067544              0.001229        0.068773                 \n",
       "2 0.020222              0.001229        0.021451                 \n",
       "3 0.020222              0.001229        0.021451                 \n",
       "4 0.022713              0.001229        0.023942                 \n",
       "5 0.005336              0.001229        0.006565                 \n",
       "6 0.005743              0.001229        0.006972                 \n",
       "7 0.005336              0.001229        0.006565                 \n",
       "8 0.007504              0.001229        0.008733                 \n",
       "9 0.005894              0.001229        0.007123                 \n",
       "  ABC.Score.Numerator powerlaw.Score.Numerator powerlaw.Score\n",
       "1 0.097069            0.126024                 0.080638      \n",
       "2 0.047690            0.041800                 0.026746      \n",
       "3 0.042251            0.038135                 0.024401      \n",
       "4 0.017265            0.015917                 0.010185      \n",
       "5 0.015608            0.012453                 0.007968      \n",
       "6 0.015224            0.012414                 0.007943      \n",
       "7 0.010795            0.008683                 0.005556      \n",
       "8 0.008339            0.007025                 0.004495      \n",
       "9 0.005100            0.004219                 0.002699      "
      ]
     },
     "metadata": {},
     "output_type": "display_data"
    }
   ],
   "source": [
    "panos %>%filter( start %in% (panos_region_overlapped%>%filter(chr ==\"chr15\", start.x > 33000000, end.x < 34000000 ))$start.x, TargetGene_name == \"FMN1\" )"
   ]
  },
  {
   "cell_type": "code",
   "execution_count": 65,
   "id": "fed7f5d0-f331-4962-b768-0bf4ef376311",
   "metadata": {},
   "outputs": [
    {
     "data": {
      "text/html": [
       "<style>\n",
       ".list-inline {list-style: none; margin:0; padding: 0}\n",
       ".list-inline>li {display: inline-block}\n",
       ".list-inline>li:not(:last-child)::after {content: \"\\00b7\"; padding: 0 .5ex}\n",
       "</style>\n",
       "<ol class=list-inline><li>'chr'</li><li>'start'</li><li>'end'</li><li>'activity_base'</li><li>'TargetGene'</li><li>'TargetGene_name'</li><li>'TargetGeneTSS'</li><li>'TargetGenePromoterActivityQuantile'</li><li>'distance'</li><li>'PeakID'</li><li>'PeakID_seqnames'</li><li>'PeakID_start'</li><li>'PeakID_end'</li><li>'combo'</li><li>'ABC.Score'</li><li>'powerlaw_contact'</li><li>'powerlaw_contact_reference'</li><li>'hic_contact'</li><li>'hic_contact_pl_scaled'</li><li>'hic_pseudocount'</li><li>'hic_contact_pl_scaled_adj'</li><li>'ABC.Score.Numerator'</li><li>'powerlaw.Score.Numerator'</li><li>'powerlaw.Score'</li></ol>\n"
      ],
      "text/latex": [
       "\\begin{enumerate*}\n",
       "\\item 'chr'\n",
       "\\item 'start'\n",
       "\\item 'end'\n",
       "\\item 'activity\\_base'\n",
       "\\item 'TargetGene'\n",
       "\\item 'TargetGene\\_name'\n",
       "\\item 'TargetGeneTSS'\n",
       "\\item 'TargetGenePromoterActivityQuantile'\n",
       "\\item 'distance'\n",
       "\\item 'PeakID'\n",
       "\\item 'PeakID\\_seqnames'\n",
       "\\item 'PeakID\\_start'\n",
       "\\item 'PeakID\\_end'\n",
       "\\item 'combo'\n",
       "\\item 'ABC.Score'\n",
       "\\item 'powerlaw\\_contact'\n",
       "\\item 'powerlaw\\_contact\\_reference'\n",
       "\\item 'hic\\_contact'\n",
       "\\item 'hic\\_contact\\_pl\\_scaled'\n",
       "\\item 'hic\\_pseudocount'\n",
       "\\item 'hic\\_contact\\_pl\\_scaled\\_adj'\n",
       "\\item 'ABC.Score.Numerator'\n",
       "\\item 'powerlaw.Score.Numerator'\n",
       "\\item 'powerlaw.Score'\n",
       "\\end{enumerate*}\n"
      ],
      "text/markdown": [
       "1. 'chr'\n",
       "2. 'start'\n",
       "3. 'end'\n",
       "4. 'activity_base'\n",
       "5. 'TargetGene'\n",
       "6. 'TargetGene_name'\n",
       "7. 'TargetGeneTSS'\n",
       "8. 'TargetGenePromoterActivityQuantile'\n",
       "9. 'distance'\n",
       "10. 'PeakID'\n",
       "11. 'PeakID_seqnames'\n",
       "12. 'PeakID_start'\n",
       "13. 'PeakID_end'\n",
       "14. 'combo'\n",
       "15. 'ABC.Score'\n",
       "16. 'powerlaw_contact'\n",
       "17. 'powerlaw_contact_reference'\n",
       "18. 'hic_contact'\n",
       "19. 'hic_contact_pl_scaled'\n",
       "20. 'hic_pseudocount'\n",
       "21. 'hic_contact_pl_scaled_adj'\n",
       "22. 'ABC.Score.Numerator'\n",
       "23. 'powerlaw.Score.Numerator'\n",
       "24. 'powerlaw.Score'\n",
       "\n",
       "\n"
      ],
      "text/plain": [
       " [1] \"chr\"                                \"start\"                             \n",
       " [3] \"end\"                                \"activity_base\"                     \n",
       " [5] \"TargetGene\"                         \"TargetGene_name\"                   \n",
       " [7] \"TargetGeneTSS\"                      \"TargetGenePromoterActivityQuantile\"\n",
       " [9] \"distance\"                           \"PeakID\"                            \n",
       "[11] \"PeakID_seqnames\"                    \"PeakID_start\"                      \n",
       "[13] \"PeakID_end\"                         \"combo\"                             \n",
       "[15] \"ABC.Score\"                          \"powerlaw_contact\"                  \n",
       "[17] \"powerlaw_contact_reference\"         \"hic_contact\"                       \n",
       "[19] \"hic_contact_pl_scaled\"              \"hic_pseudocount\"                   \n",
       "[21] \"hic_contact_pl_scaled_adj\"          \"ABC.Score.Numerator\"               \n",
       "[23] \"powerlaw.Score.Numerator\"           \"powerlaw.Score\"                    "
      ]
     },
     "metadata": {},
     "output_type": "display_data"
    }
   ],
   "source": [
    "panos %>%colnames"
   ]
  },
  {
   "cell_type": "markdown",
   "id": "a77ec672-0197-4fa8-829c-9512fe4d05e3",
   "metadata": {},
   "source": [
    "### Write Panos ATAT-Seq X Nott as bed."
   ]
  },
  {
   "cell_type": "code",
   "execution_count": 63,
   "id": "27ed146a-f6fd-4a27-84cc-f184e4cb8dc8",
   "metadata": {},
   "outputs": [],
   "source": [
    "panos_region_overlapped%>%unique%>%\n",
    "select(chr,start = start.x, end = end.x, type)%>%unique%>%\n",
    "mutate(chr = str_remove(chr, \"chr\")%>%\n",
    "       factor(levels = c(1:22,\"X\",\"Y\")))%>%\n",
    "arrange(chr,start,end)%>%\n",
    "mutate(type = paste0(type,\":\",as.character(chr),\":\",start,\":\",end ))%>%\n",
    "write_delim(\"./panos_annotation/Panos_overlaped_Nott2019_LHX2_H3K27ac_TableS5_prom_enh_hg38.bed\",\"\\t\",col_names = FALSE)"
   ]
  },
  {
   "cell_type": "markdown",
   "id": "8068b66b-0db3-44b2-a78d-2e0deb06f341",
   "metadata": {},
   "source": [
    "### Write Panos ATAT-Seq as bed."
   ]
  },
  {
   "cell_type": "code",
   "execution_count": 70,
   "id": "15f4de2f-5c09-4874-9f35-c9971d14adee",
   "metadata": {},
   "outputs": [],
   "source": [
    "panos_bed = panos%>%select(chr,start,end,PeakID,activity_base)%>%unique"
   ]
  },
  {
   "cell_type": "code",
   "execution_count": 74,
   "id": "94267906-04f9-4263-a26a-36842fc67241",
   "metadata": {},
   "outputs": [],
   "source": [
    "panos_bed%>%unique%>%\n",
    "mutate(chr = str_remove(chr, \"chr\")%>%\n",
    "       factor(levels = c(1:22,\"X\",\"Y\")))%>%\n",
    "arrange(chr,start,end)%>%\n",
    "mutate(type = paste0(PeakID,\":\",activity_base,\":\",as.character(chr),\":\",start,\":\",end ))%>%\n",
    "select(-PeakID,-activity_base)%>%\n",
    "write_delim(\"./panos_annotation/Panos_2023_ABC_region.bed\",\"\\t\",col_names = FALSE)"
   ]
  },
  {
   "cell_type": "markdown",
   "id": "d1d37a85-67ae-4a77-8e0a-57685df44e5c",
   "metadata": {},
   "source": [
    "### Write Microglia Nott as bed."
   ]
  },
  {
   "cell_type": "code",
   "execution_count": 73,
   "id": "29259b77-55b4-4668-9f8f-084c5716f8ed",
   "metadata": {},
   "outputs": [],
   "source": [
    "rbind(mic_enh%>%mutate(type = \"Enh\"),mic_prom%>%mutate(type = \"Prom\"))%>%\n",
    "    mutate(chr = str_remove(chr, \"chr\")%>%\n",
    "       factor(levels = c(1:22,\"X\",\"Y\")))%>%\n",
    "arrange(chr,start,end)%>%\n",
    "mutate(type = paste0(type,\":\",as.character(chr),\":\",start,\":\",end ))%>%\n",
    "select(-X)%>%\n",
    "write_delim(\"./panos_annotation/Nott2019_Mic_H3K27ac_TableS5_prom_enh_hg38.bed\",\"\\t\",col_names = FALSE)\n"
   ]
  },
  {
   "cell_type": "code",
   "execution_count": null,
   "id": "183552e8-0cc5-4d51-a331-bfb890e82dd1",
   "metadata": {},
   "outputs": [],
   "source": []
  },
  {
   "cell_type": "code",
   "execution_count": null,
   "id": "a06d870a-b4ea-47a1-854b-1c6d2398c82d",
   "metadata": {},
   "outputs": [],
   "source": [
    "panos_region_overlapped%>%unique%>%\n",
    "select(chr,start = start.x, end = end.x, type)%>%unique%>%\n",
    "mutate(chr = str_remove(chr, \"chr\")%>%\n",
    "       factor(levels = c(1:22,\"X\",\"Y\")))%>%\n",
    "arrange(chr,start,end)%>%\n",
    "mutate(type = paste0(type,\":\",as.character(chr),\":\",start,\":\",end ))%>%\n",
    "write_delim(\"./panos_annotation/Panos_overlaped_Nott2019_LHX2_H3K27ac_TableS5_prom_enh_hg38.bed\",\"\\t\",col_names = FALSE)"
   ]
  },
  {
   "cell_type": "code",
   "execution_count": 47,
   "id": "fa74114e-6b84-445f-8a7d-58cafdb3e991",
   "metadata": {},
   "outputs": [
    {
     "name": "stderr",
     "output_type": "stream",
     "text": [
      "\u001b[1mRows: \u001b[22m\u001b[34m64176\u001b[39m \u001b[1mColumns: \u001b[22m\u001b[34m4\u001b[39m\n",
      "\u001b[36m──\u001b[39m \u001b[1mColumn specification\u001b[22m \u001b[36m─────────────────────────────────────────────────────────────────────────────────────────────────────────────────────────────────────────────────────────────────────────────────────────────\u001b[39m\n",
      "\u001b[1mDelimiter:\u001b[22m \"\\t\"\n",
      "\u001b[31mchr\u001b[39m (2): 1, ENH:1:817069:817440\n",
      "\u001b[32mdbl\u001b[39m (2): 817069, 817440\n",
      "\n",
      "\u001b[36mℹ\u001b[39m Use `spec()` to retrieve the full column specification for this data.\n",
      "\u001b[36mℹ\u001b[39m Specify the column types or set `show_col_types = FALSE` to quiet this message.\n"
     ]
    }
   ],
   "source": [
    "bed = read_delim(\"/sc/arion/projects/load/users/patelt16/projects/regulatory_gwas/20230429/wgs.reg.vcf_to_gds/input/Nott2019_LHX2_H3K27ac_TableS5_prom_enh_hg38.bed\")"
   ]
  },
  {
   "cell_type": "code",
   "execution_count": 55,
   "id": "cc2dd09e-3de9-4093-bfea-74d4f72ca02d",
   "metadata": {},
   "outputs": [
    {
     "data": {
      "text/html": [
       "<table class=\"dataframe\">\n",
       "<caption>A spec_tbl_df: 64176 × 4</caption>\n",
       "<thead>\n",
       "\t<tr><th scope=col>1</th><th scope=col>817069</th><th scope=col>817440</th><th scope=col>ENH:1:817069:817440</th></tr>\n",
       "\t<tr><th scope=col>&lt;chr&gt;</th><th scope=col>&lt;dbl&gt;</th><th scope=col>&lt;dbl&gt;</th><th scope=col>&lt;chr&gt;</th></tr>\n",
       "</thead>\n",
       "<tbody>\n",
       "\t<tr><td>1</td><td> 818117</td><td> 818345</td><td>ENH:1:818117:818345  </td></tr>\n",
       "\t<tr><td>1</td><td> 818682</td><td> 818799</td><td>ENH:1:818682:818799  </td></tr>\n",
       "\t<tr><td>1</td><td> 904119</td><td> 905001</td><td>ENH:1:904119:905001  </td></tr>\n",
       "\t<tr><td>1</td><td> 910178</td><td> 910472</td><td>ENH:1:910178:910472  </td></tr>\n",
       "\t<tr><td>1</td><td> 939920</td><td> 940068</td><td>ENH:1:939920:940068  </td></tr>\n",
       "\t<tr><td>1</td><td> 976023</td><td> 976683</td><td>ENH:1:976023:976683  </td></tr>\n",
       "\t<tr><td>1</td><td> 976912</td><td> 977020</td><td>ENH:1:976912:977020  </td></tr>\n",
       "\t<tr><td>1</td><td> 997336</td><td> 997471</td><td>ENH:1:997336:997471  </td></tr>\n",
       "\t<tr><td>1</td><td> 998014</td><td> 998404</td><td>ENH:1:998014:998404  </td></tr>\n",
       "\t<tr><td>1</td><td>1002289</td><td>1002359</td><td>ENH:1:1002289:1002359</td></tr>\n",
       "\t<tr><td>1</td><td>1005170</td><td>1005899</td><td>ENH:1:1005170:1005899</td></tr>\n",
       "\t<tr><td>1</td><td>1012736</td><td>1012794</td><td>ENH:1:1012736:1012794</td></tr>\n",
       "\t<tr><td>1</td><td>1014645</td><td>1015255</td><td>ENH:1:1014645:1015255</td></tr>\n",
       "\t<tr><td>1</td><td>1018940</td><td>1019069</td><td>ENH:1:1018940:1019069</td></tr>\n",
       "\t<tr><td>1</td><td>1024021</td><td>1024185</td><td>ENH:1:1024021:1024185</td></tr>\n",
       "\t<tr><td>1</td><td>1024530</td><td>1025572</td><td>ENH:1:1024530:1025572</td></tr>\n",
       "\t<tr><td>1</td><td>1032727</td><td>1033069</td><td>ENH:1:1032727:1033069</td></tr>\n",
       "\t<tr><td>1</td><td>1122367</td><td>1122500</td><td>ENH:1:1122367:1122500</td></tr>\n",
       "\t<tr><td>1</td><td>1157464</td><td>1159549</td><td>ENH:1:1157464:1159549</td></tr>\n",
       "\t<tr><td>1</td><td>1270634</td><td>1271062</td><td>ENH:1:1270634:1271062</td></tr>\n",
       "\t<tr><td>1</td><td>1344994</td><td>1347551</td><td>ENH:1:1344994:1347551</td></tr>\n",
       "\t<tr><td>1</td><td>1351430</td><td>1352043</td><td>ENH:1:1351430:1352043</td></tr>\n",
       "\t<tr><td>1</td><td>1355150</td><td>1355727</td><td>ENH:1:1355150:1355727</td></tr>\n",
       "\t<tr><td>1</td><td>1356660</td><td>1359248</td><td>ENH:1:1356660:1359248</td></tr>\n",
       "\t<tr><td>1</td><td>1359502</td><td>1360942</td><td>ENH:1:1359502:1360942</td></tr>\n",
       "\t<tr><td>1</td><td>1361457</td><td>1362292</td><td>ENH:1:1361457:1362292</td></tr>\n",
       "\t<tr><td>1</td><td>1376327</td><td>1376419</td><td>ENH:1:1376327:1376419</td></tr>\n",
       "\t<tr><td>1</td><td>1405695</td><td>1405897</td><td>ENH:1:1405695:1405897</td></tr>\n",
       "\t<tr><td>1</td><td>1419502</td><td>1419523</td><td>ENH:1:1419502:1419523</td></tr>\n",
       "\t<tr><td>1</td><td>1421493</td><td>1421827</td><td>ENH:1:1421493:1421827</td></tr>\n",
       "\t<tr><td>⋮</td><td>⋮</td><td>⋮</td><td>⋮</td></tr>\n",
       "\t<tr><td>X</td><td>154541066</td><td>154544296</td><td>ENH:X:154541066:154544296</td></tr>\n",
       "\t<tr><td>X</td><td>154544583</td><td>154545268</td><td>ENH:X:154544583:154545268</td></tr>\n",
       "\t<tr><td>X</td><td>154546171</td><td>154546213</td><td>ENH:X:154546171:154546213</td></tr>\n",
       "\t<tr><td>X</td><td>154734060</td><td>154734827</td><td>ENH:X:154734060:154734827</td></tr>\n",
       "\t<tr><td>X</td><td>154918193</td><td>154918374</td><td>ENH:X:154918193:154918374</td></tr>\n",
       "\t<tr><td>X</td><td>154980784</td><td>154980901</td><td>ENH:X:154980784:154980901</td></tr>\n",
       "\t<tr><td>X</td><td>155028251</td><td>155029264</td><td>ENH:X:155028251:155029264</td></tr>\n",
       "\t<tr><td>X</td><td>155048815</td><td>155049100</td><td>ENH:X:155048815:155049100</td></tr>\n",
       "\t<tr><td>Y</td><td>  2851379</td><td>  2852953</td><td>ENH:Y:2851379:2852953    </td></tr>\n",
       "\t<tr><td>Y</td><td>  2867354</td><td>  2867486</td><td>ENH:Y:2867354:2867486    </td></tr>\n",
       "\t<tr><td>Y</td><td>  2939129</td><td>  2939576</td><td>ENH:Y:2939129:2939576    </td></tr>\n",
       "\t<tr><td>Y</td><td>  3021126</td><td>  3022176</td><td>ENH:Y:3021126:3022176    </td></tr>\n",
       "\t<tr><td>Y</td><td>  3022938</td><td>  3023142</td><td>ENH:Y:3022938:3023142    </td></tr>\n",
       "\t<tr><td>Y</td><td>  3023643</td><td>  3023910</td><td>ENH:Y:3023643:3023910    </td></tr>\n",
       "\t<tr><td>Y</td><td>  3032674</td><td>  3032863</td><td>ENH:Y:3032674:3032863    </td></tr>\n",
       "\t<tr><td>Y</td><td>  7725428</td><td>  7726281</td><td>ENH:Y:7725428:7726281    </td></tr>\n",
       "\t<tr><td>Y</td><td>  8622402</td><td>  8622933</td><td>ENH:Y:8622402:8622933    </td></tr>\n",
       "\t<tr><td>Y</td><td>  8677113</td><td>  8677694</td><td>ENH:Y:8677113:8677694    </td></tr>\n",
       "\t<tr><td>Y</td><td>  8677920</td><td>  8678066</td><td>ENH:Y:8677920:8678066    </td></tr>\n",
       "\t<tr><td>Y</td><td> 13282541</td><td> 13282821</td><td>ENH:Y:13282541:13282821  </td></tr>\n",
       "\t<tr><td>Y</td><td> 13339476</td><td> 13339955</td><td>ENH:Y:13339476:13339955  </td></tr>\n",
       "\t<tr><td>Y</td><td> 13340173</td><td> 13340792</td><td>ENH:Y:13340173:13340792  </td></tr>\n",
       "\t<tr><td>Y</td><td> 14800796</td><td> 14801110</td><td>ENH:Y:14800796:14801110  </td></tr>\n",
       "\t<tr><td>Y</td><td> 14801422</td><td> 14802402</td><td>ENH:Y:14801422:14802402  </td></tr>\n",
       "\t<tr><td>Y</td><td> 14821088</td><td> 14823606</td><td>ENH:Y:14821088:14823606  </td></tr>\n",
       "\t<tr><td>Y</td><td> 14841238</td><td> 14843072</td><td>ENH:Y:14841238:14843072  </td></tr>\n",
       "\t<tr><td>Y</td><td> 15424759</td><td> 15424948</td><td>ENH:Y:15424759:15424948  </td></tr>\n",
       "\t<tr><td>Y</td><td> 17234038</td><td> 17234873</td><td>ENH:Y:17234038:17234873  </td></tr>\n",
       "\t<tr><td>Y</td><td> 20576971</td><td> 20577183</td><td>ENH:Y:20576971:20577183  </td></tr>\n",
       "\t<tr><td>Y</td><td> 21829606</td><td> 21829902</td><td>ENH:Y:21829606:21829902  </td></tr>\n",
       "</tbody>\n",
       "</table>\n"
      ],
      "text/latex": [
       "A spec\\_tbl\\_df: 64176 × 4\n",
       "\\begin{tabular}{llll}\n",
       " 1 & 817069 & 817440 & ENH:1:817069:817440\\\\\n",
       " <chr> & <dbl> & <dbl> & <chr>\\\\\n",
       "\\hline\n",
       "\t 1 &  818117 &  818345 & ENH:1:818117:818345  \\\\\n",
       "\t 1 &  818682 &  818799 & ENH:1:818682:818799  \\\\\n",
       "\t 1 &  904119 &  905001 & ENH:1:904119:905001  \\\\\n",
       "\t 1 &  910178 &  910472 & ENH:1:910178:910472  \\\\\n",
       "\t 1 &  939920 &  940068 & ENH:1:939920:940068  \\\\\n",
       "\t 1 &  976023 &  976683 & ENH:1:976023:976683  \\\\\n",
       "\t 1 &  976912 &  977020 & ENH:1:976912:977020  \\\\\n",
       "\t 1 &  997336 &  997471 & ENH:1:997336:997471  \\\\\n",
       "\t 1 &  998014 &  998404 & ENH:1:998014:998404  \\\\\n",
       "\t 1 & 1002289 & 1002359 & ENH:1:1002289:1002359\\\\\n",
       "\t 1 & 1005170 & 1005899 & ENH:1:1005170:1005899\\\\\n",
       "\t 1 & 1012736 & 1012794 & ENH:1:1012736:1012794\\\\\n",
       "\t 1 & 1014645 & 1015255 & ENH:1:1014645:1015255\\\\\n",
       "\t 1 & 1018940 & 1019069 & ENH:1:1018940:1019069\\\\\n",
       "\t 1 & 1024021 & 1024185 & ENH:1:1024021:1024185\\\\\n",
       "\t 1 & 1024530 & 1025572 & ENH:1:1024530:1025572\\\\\n",
       "\t 1 & 1032727 & 1033069 & ENH:1:1032727:1033069\\\\\n",
       "\t 1 & 1122367 & 1122500 & ENH:1:1122367:1122500\\\\\n",
       "\t 1 & 1157464 & 1159549 & ENH:1:1157464:1159549\\\\\n",
       "\t 1 & 1270634 & 1271062 & ENH:1:1270634:1271062\\\\\n",
       "\t 1 & 1344994 & 1347551 & ENH:1:1344994:1347551\\\\\n",
       "\t 1 & 1351430 & 1352043 & ENH:1:1351430:1352043\\\\\n",
       "\t 1 & 1355150 & 1355727 & ENH:1:1355150:1355727\\\\\n",
       "\t 1 & 1356660 & 1359248 & ENH:1:1356660:1359248\\\\\n",
       "\t 1 & 1359502 & 1360942 & ENH:1:1359502:1360942\\\\\n",
       "\t 1 & 1361457 & 1362292 & ENH:1:1361457:1362292\\\\\n",
       "\t 1 & 1376327 & 1376419 & ENH:1:1376327:1376419\\\\\n",
       "\t 1 & 1405695 & 1405897 & ENH:1:1405695:1405897\\\\\n",
       "\t 1 & 1419502 & 1419523 & ENH:1:1419502:1419523\\\\\n",
       "\t 1 & 1421493 & 1421827 & ENH:1:1421493:1421827\\\\\n",
       "\t ⋮ & ⋮ & ⋮ & ⋮\\\\\n",
       "\t X & 154541066 & 154544296 & ENH:X:154541066:154544296\\\\\n",
       "\t X & 154544583 & 154545268 & ENH:X:154544583:154545268\\\\\n",
       "\t X & 154546171 & 154546213 & ENH:X:154546171:154546213\\\\\n",
       "\t X & 154734060 & 154734827 & ENH:X:154734060:154734827\\\\\n",
       "\t X & 154918193 & 154918374 & ENH:X:154918193:154918374\\\\\n",
       "\t X & 154980784 & 154980901 & ENH:X:154980784:154980901\\\\\n",
       "\t X & 155028251 & 155029264 & ENH:X:155028251:155029264\\\\\n",
       "\t X & 155048815 & 155049100 & ENH:X:155048815:155049100\\\\\n",
       "\t Y &   2851379 &   2852953 & ENH:Y:2851379:2852953    \\\\\n",
       "\t Y &   2867354 &   2867486 & ENH:Y:2867354:2867486    \\\\\n",
       "\t Y &   2939129 &   2939576 & ENH:Y:2939129:2939576    \\\\\n",
       "\t Y &   3021126 &   3022176 & ENH:Y:3021126:3022176    \\\\\n",
       "\t Y &   3022938 &   3023142 & ENH:Y:3022938:3023142    \\\\\n",
       "\t Y &   3023643 &   3023910 & ENH:Y:3023643:3023910    \\\\\n",
       "\t Y &   3032674 &   3032863 & ENH:Y:3032674:3032863    \\\\\n",
       "\t Y &   7725428 &   7726281 & ENH:Y:7725428:7726281    \\\\\n",
       "\t Y &   8622402 &   8622933 & ENH:Y:8622402:8622933    \\\\\n",
       "\t Y &   8677113 &   8677694 & ENH:Y:8677113:8677694    \\\\\n",
       "\t Y &   8677920 &   8678066 & ENH:Y:8677920:8678066    \\\\\n",
       "\t Y &  13282541 &  13282821 & ENH:Y:13282541:13282821  \\\\\n",
       "\t Y &  13339476 &  13339955 & ENH:Y:13339476:13339955  \\\\\n",
       "\t Y &  13340173 &  13340792 & ENH:Y:13340173:13340792  \\\\\n",
       "\t Y &  14800796 &  14801110 & ENH:Y:14800796:14801110  \\\\\n",
       "\t Y &  14801422 &  14802402 & ENH:Y:14801422:14802402  \\\\\n",
       "\t Y &  14821088 &  14823606 & ENH:Y:14821088:14823606  \\\\\n",
       "\t Y &  14841238 &  14843072 & ENH:Y:14841238:14843072  \\\\\n",
       "\t Y &  15424759 &  15424948 & ENH:Y:15424759:15424948  \\\\\n",
       "\t Y &  17234038 &  17234873 & ENH:Y:17234038:17234873  \\\\\n",
       "\t Y &  20576971 &  20577183 & ENH:Y:20576971:20577183  \\\\\n",
       "\t Y &  21829606 &  21829902 & ENH:Y:21829606:21829902  \\\\\n",
       "\\end{tabular}\n"
      ],
      "text/markdown": [
       "\n",
       "A spec_tbl_df: 64176 × 4\n",
       "\n",
       "| 1 &lt;chr&gt; | 817069 &lt;dbl&gt; | 817440 &lt;dbl&gt; | ENH:1:817069:817440 &lt;chr&gt; |\n",
       "|---|---|---|---|\n",
       "| 1 |  818117 |  818345 | ENH:1:818117:818345   |\n",
       "| 1 |  818682 |  818799 | ENH:1:818682:818799   |\n",
       "| 1 |  904119 |  905001 | ENH:1:904119:905001   |\n",
       "| 1 |  910178 |  910472 | ENH:1:910178:910472   |\n",
       "| 1 |  939920 |  940068 | ENH:1:939920:940068   |\n",
       "| 1 |  976023 |  976683 | ENH:1:976023:976683   |\n",
       "| 1 |  976912 |  977020 | ENH:1:976912:977020   |\n",
       "| 1 |  997336 |  997471 | ENH:1:997336:997471   |\n",
       "| 1 |  998014 |  998404 | ENH:1:998014:998404   |\n",
       "| 1 | 1002289 | 1002359 | ENH:1:1002289:1002359 |\n",
       "| 1 | 1005170 | 1005899 | ENH:1:1005170:1005899 |\n",
       "| 1 | 1012736 | 1012794 | ENH:1:1012736:1012794 |\n",
       "| 1 | 1014645 | 1015255 | ENH:1:1014645:1015255 |\n",
       "| 1 | 1018940 | 1019069 | ENH:1:1018940:1019069 |\n",
       "| 1 | 1024021 | 1024185 | ENH:1:1024021:1024185 |\n",
       "| 1 | 1024530 | 1025572 | ENH:1:1024530:1025572 |\n",
       "| 1 | 1032727 | 1033069 | ENH:1:1032727:1033069 |\n",
       "| 1 | 1122367 | 1122500 | ENH:1:1122367:1122500 |\n",
       "| 1 | 1157464 | 1159549 | ENH:1:1157464:1159549 |\n",
       "| 1 | 1270634 | 1271062 | ENH:1:1270634:1271062 |\n",
       "| 1 | 1344994 | 1347551 | ENH:1:1344994:1347551 |\n",
       "| 1 | 1351430 | 1352043 | ENH:1:1351430:1352043 |\n",
       "| 1 | 1355150 | 1355727 | ENH:1:1355150:1355727 |\n",
       "| 1 | 1356660 | 1359248 | ENH:1:1356660:1359248 |\n",
       "| 1 | 1359502 | 1360942 | ENH:1:1359502:1360942 |\n",
       "| 1 | 1361457 | 1362292 | ENH:1:1361457:1362292 |\n",
       "| 1 | 1376327 | 1376419 | ENH:1:1376327:1376419 |\n",
       "| 1 | 1405695 | 1405897 | ENH:1:1405695:1405897 |\n",
       "| 1 | 1419502 | 1419523 | ENH:1:1419502:1419523 |\n",
       "| 1 | 1421493 | 1421827 | ENH:1:1421493:1421827 |\n",
       "| ⋮ | ⋮ | ⋮ | ⋮ |\n",
       "| X | 154541066 | 154544296 | ENH:X:154541066:154544296 |\n",
       "| X | 154544583 | 154545268 | ENH:X:154544583:154545268 |\n",
       "| X | 154546171 | 154546213 | ENH:X:154546171:154546213 |\n",
       "| X | 154734060 | 154734827 | ENH:X:154734060:154734827 |\n",
       "| X | 154918193 | 154918374 | ENH:X:154918193:154918374 |\n",
       "| X | 154980784 | 154980901 | ENH:X:154980784:154980901 |\n",
       "| X | 155028251 | 155029264 | ENH:X:155028251:155029264 |\n",
       "| X | 155048815 | 155049100 | ENH:X:155048815:155049100 |\n",
       "| Y |   2851379 |   2852953 | ENH:Y:2851379:2852953     |\n",
       "| Y |   2867354 |   2867486 | ENH:Y:2867354:2867486     |\n",
       "| Y |   2939129 |   2939576 | ENH:Y:2939129:2939576     |\n",
       "| Y |   3021126 |   3022176 | ENH:Y:3021126:3022176     |\n",
       "| Y |   3022938 |   3023142 | ENH:Y:3022938:3023142     |\n",
       "| Y |   3023643 |   3023910 | ENH:Y:3023643:3023910     |\n",
       "| Y |   3032674 |   3032863 | ENH:Y:3032674:3032863     |\n",
       "| Y |   7725428 |   7726281 | ENH:Y:7725428:7726281     |\n",
       "| Y |   8622402 |   8622933 | ENH:Y:8622402:8622933     |\n",
       "| Y |   8677113 |   8677694 | ENH:Y:8677113:8677694     |\n",
       "| Y |   8677920 |   8678066 | ENH:Y:8677920:8678066     |\n",
       "| Y |  13282541 |  13282821 | ENH:Y:13282541:13282821   |\n",
       "| Y |  13339476 |  13339955 | ENH:Y:13339476:13339955   |\n",
       "| Y |  13340173 |  13340792 | ENH:Y:13340173:13340792   |\n",
       "| Y |  14800796 |  14801110 | ENH:Y:14800796:14801110   |\n",
       "| Y |  14801422 |  14802402 | ENH:Y:14801422:14802402   |\n",
       "| Y |  14821088 |  14823606 | ENH:Y:14821088:14823606   |\n",
       "| Y |  14841238 |  14843072 | ENH:Y:14841238:14843072   |\n",
       "| Y |  15424759 |  15424948 | ENH:Y:15424759:15424948   |\n",
       "| Y |  17234038 |  17234873 | ENH:Y:17234038:17234873   |\n",
       "| Y |  20576971 |  20577183 | ENH:Y:20576971:20577183   |\n",
       "| Y |  21829606 |  21829902 | ENH:Y:21829606:21829902   |\n",
       "\n"
      ],
      "text/plain": [
       "      1 817069    817440    ENH:1:817069:817440      \n",
       "1     1  818117    818345   ENH:1:818117:818345      \n",
       "2     1  818682    818799   ENH:1:818682:818799      \n",
       "3     1  904119    905001   ENH:1:904119:905001      \n",
       "4     1  910178    910472   ENH:1:910178:910472      \n",
       "5     1  939920    940068   ENH:1:939920:940068      \n",
       "6     1  976023    976683   ENH:1:976023:976683      \n",
       "7     1  976912    977020   ENH:1:976912:977020      \n",
       "8     1  997336    997471   ENH:1:997336:997471      \n",
       "9     1  998014    998404   ENH:1:998014:998404      \n",
       "10    1 1002289   1002359   ENH:1:1002289:1002359    \n",
       "11    1 1005170   1005899   ENH:1:1005170:1005899    \n",
       "12    1 1012736   1012794   ENH:1:1012736:1012794    \n",
       "13    1 1014645   1015255   ENH:1:1014645:1015255    \n",
       "14    1 1018940   1019069   ENH:1:1018940:1019069    \n",
       "15    1 1024021   1024185   ENH:1:1024021:1024185    \n",
       "16    1 1024530   1025572   ENH:1:1024530:1025572    \n",
       "17    1 1032727   1033069   ENH:1:1032727:1033069    \n",
       "18    1 1122367   1122500   ENH:1:1122367:1122500    \n",
       "19    1 1157464   1159549   ENH:1:1157464:1159549    \n",
       "20    1 1270634   1271062   ENH:1:1270634:1271062    \n",
       "21    1 1344994   1347551   ENH:1:1344994:1347551    \n",
       "22    1 1351430   1352043   ENH:1:1351430:1352043    \n",
       "23    1 1355150   1355727   ENH:1:1355150:1355727    \n",
       "24    1 1356660   1359248   ENH:1:1356660:1359248    \n",
       "25    1 1359502   1360942   ENH:1:1359502:1360942    \n",
       "26    1 1361457   1362292   ENH:1:1361457:1362292    \n",
       "27    1 1376327   1376419   ENH:1:1376327:1376419    \n",
       "28    1 1405695   1405897   ENH:1:1405695:1405897    \n",
       "29    1 1419502   1419523   ENH:1:1419502:1419523    \n",
       "30    1 1421493   1421827   ENH:1:1421493:1421827    \n",
       "⋮     ⋮ ⋮         ⋮         ⋮                        \n",
       "64147 X 154541066 154544296 ENH:X:154541066:154544296\n",
       "64148 X 154544583 154545268 ENH:X:154544583:154545268\n",
       "64149 X 154546171 154546213 ENH:X:154546171:154546213\n",
       "64150 X 154734060 154734827 ENH:X:154734060:154734827\n",
       "64151 X 154918193 154918374 ENH:X:154918193:154918374\n",
       "64152 X 154980784 154980901 ENH:X:154980784:154980901\n",
       "64153 X 155028251 155029264 ENH:X:155028251:155029264\n",
       "64154 X 155048815 155049100 ENH:X:155048815:155049100\n",
       "64155 Y   2851379   2852953 ENH:Y:2851379:2852953    \n",
       "64156 Y   2867354   2867486 ENH:Y:2867354:2867486    \n",
       "64157 Y   2939129   2939576 ENH:Y:2939129:2939576    \n",
       "64158 Y   3021126   3022176 ENH:Y:3021126:3022176    \n",
       "64159 Y   3022938   3023142 ENH:Y:3022938:3023142    \n",
       "64160 Y   3023643   3023910 ENH:Y:3023643:3023910    \n",
       "64161 Y   3032674   3032863 ENH:Y:3032674:3032863    \n",
       "64162 Y   7725428   7726281 ENH:Y:7725428:7726281    \n",
       "64163 Y   8622402   8622933 ENH:Y:8622402:8622933    \n",
       "64164 Y   8677113   8677694 ENH:Y:8677113:8677694    \n",
       "64165 Y   8677920   8678066 ENH:Y:8677920:8678066    \n",
       "64166 Y  13282541  13282821 ENH:Y:13282541:13282821  \n",
       "64167 Y  13339476  13339955 ENH:Y:13339476:13339955  \n",
       "64168 Y  13340173  13340792 ENH:Y:13340173:13340792  \n",
       "64169 Y  14800796  14801110 ENH:Y:14800796:14801110  \n",
       "64170 Y  14801422  14802402 ENH:Y:14801422:14802402  \n",
       "64171 Y  14821088  14823606 ENH:Y:14821088:14823606  \n",
       "64172 Y  14841238  14843072 ENH:Y:14841238:14843072  \n",
       "64173 Y  15424759  15424948 ENH:Y:15424759:15424948  \n",
       "64174 Y  17234038  17234873 ENH:Y:17234038:17234873  \n",
       "64175 Y  20576971  20577183 ENH:Y:20576971:20577183  \n",
       "64176 Y  21829606  21829902 ENH:Y:21829606:21829902  "
      ]
     },
     "metadata": {},
     "output_type": "display_data"
    }
   ],
   "source": [
    "bed"
   ]
  },
  {
   "cell_type": "code",
   "execution_count": null,
   "id": "c725c962-3162-45cc-9e96-35e67d8d94ee",
   "metadata": {},
   "outputs": [],
   "source": []
  }
 ],
 "metadata": {
  "kernelspec": {
   "display_name": "Singularity StephensLab R tools",
   "language": "R",
   "name": "stephen_r"
  },
  "language_info": {
   "codemirror_mode": "r",
   "file_extension": ".r",
   "mimetype": "text/x-r-source",
   "name": "R",
   "pygments_lexer": "r",
   "version": "4.2.3"
  }
 },
 "nbformat": 4,
 "nbformat_minor": 5
}
