{
 "cells": [
  {
   "cell_type": "markdown",
   "id": "75657b20-cabd-475d-88b8-2dc98a5b7c13",
   "metadata": {},
   "source": [
    "# Liftover Nott's\n",
    "This notebook documents the codes used to lift over nott from hg19 to hg38\n",
    "These codes are ran in the python console directly for the enviorment is not setup yet."
   ]
  },
  {
   "cell_type": "code",
   "execution_count": 5,
   "id": "1afbcd39-ae0c-40fb-8b23-c12c82618a8f",
   "metadata": {},
   "outputs": [],
   "source": [
    "import pandas as pd\n"
   ]
  },
  {
   "cell_type": "code",
   "execution_count": 3,
   "id": "cf182a9e-245b-4091-9ae1-1299e32101ab",
   "metadata": {
    "editable": true,
    "slideshow": {
     "slide_type": ""
    },
    "tags": []
   },
   "outputs": [
    {
     "ename": "ModuleNotFoundError",
     "evalue": "No module named 'liftover'",
     "output_type": "error",
     "traceback": [
      "\u001b[0;31m---------------------------------------------------------------------------\u001b[0m",
      "\u001b[0;31mModuleNotFoundError\u001b[0m                       Traceback (most recent call last)",
      "Cell \u001b[0;32mIn[3], line 3\u001b[0m\n\u001b[1;32m      1\u001b[0m \u001b[38;5;66;03m# Cell\u001b[39;00m\n\u001b[1;32m      2\u001b[0m \u001b[38;5;28;01mimport\u001b[39;00m \u001b[38;5;21;01mgzip\u001b[39;00m\n\u001b[0;32m----> 3\u001b[0m \u001b[38;5;28;01mfrom\u001b[39;00m \u001b[38;5;21;01mliftover\u001b[39;00m \u001b[38;5;28;01mimport\u001b[39;00m get_lifter\n\u001b[1;32m      4\u001b[0m \u001b[38;5;28;01mimport\u001b[39;00m \u001b[38;5;21;01mpandas\u001b[39;00m \u001b[38;5;28;01mas\u001b[39;00m \u001b[38;5;21;01mpd\u001b[39;00m\n",
      "\u001b[0;31mModuleNotFoundError\u001b[0m: No module named 'liftover'"
     ]
    }
   ],
   "source": [
    "\n",
    "# Cell\n",
    "import gzip\n",
    "from liftover import get_lifter\n"
   ]
  },
  {
   "cell_type": "code",
   "execution_count": 9,
   "id": "1244c27e-9a5a-420f-bed7-4f6273789905",
   "metadata": {},
   "outputs": [
    {
     "ename": "ModuleNotFoundError",
     "evalue": "No module named 'liftover'",
     "output_type": "error",
     "traceback": [
      "\u001b[0;31m---------------------------------------------------------------------------\u001b[0m",
      "\u001b[0;31mModuleNotFoundError\u001b[0m                       Traceback (most recent call last)",
      "Cell \u001b[0;32mIn[9], line 1\u001b[0m\n\u001b[0;32m----> 1\u001b[0m \u001b[38;5;28;01mimport\u001b[39;00m \u001b[38;5;21;01mliftover\u001b[39;00m \n\u001b[1;32m      3\u001b[0m \u001b[38;5;66;03m# Cell\u001b[39;00m\n\u001b[1;32m      4\u001b[0m \u001b[38;5;28;01mclass\u001b[39;00m \u001b[38;5;21;01mLiftover\u001b[39;00m:\n",
      "\u001b[0;31mModuleNotFoundError\u001b[0m: No module named 'liftover'"
     ]
    }
   ],
   "source": [
    "from liftover import ChainFile\n",
    "\n",
    "class Liftover:\n",
    "    def __init__(self,fr='hg19',to='hg38',file ='~/hg19ToHg38.over.chain'):\n",
    "        self.fr,self.to = fr,to\n",
    "        self.chainmap = ChainFile(file, fr,to)\n",
    "        #self.fasta\n",
    "    def variants_liftover(self,chrom,pos):\n",
    "        if len(chrom) == 1:\n",
    "            chrom = [chrom]*len(pos)\n",
    "        lchr,lpos = [],[]\n",
    "        for c,p in zip(chrom,pos):\n",
    "            new_c,new_p = self.chrpos_liftover(c,p)\n",
    "            lchr.append(new_c)\n",
    "            lpos.append(new_p)\n",
    "        return lchr,lpos\n",
    "    def chrpos_liftover(self,chrom,pos):\n",
    "        try:\n",
    "            if str(chrom) in ['X','chrX','23']:\n",
    "                new_c,new_p,_ = self.chainmap['X'][pos][0]\n",
    "                return 23,new_p\n",
    "            elif str(chrom) in ['Y','chrY','24']:\n",
    "                new_c,new_p,_ = self.chainmap['Y'][pos][0]\n",
    "                return 24,new_p\n",
    "            elif str(chrom) in ['M','chrM','25','MT']:\n",
    "                new_c,new_p,_ = self.chainmap['M'][pos][0]\n",
    "                return 25,new_p\n",
    "            else:\n",
    "                new_c,new_p,_ = self.chainmap[int(chrom)][pos][0]\n",
    "            return int(new_c[3:]),new_p\n",
    "        except:\n",
    "            return 0,0\n",
    "    def region_liftover(self,region):\n",
    "        imp_cs,imp_start = self.chrpos_liftover(region[0],region[1])\n",
    "        imp_ce,imp_end = self.chrpos_liftover(region[0],region[2])\n",
    "        if imp_cs !=imp_ce:\n",
    "            raise ValueError('After liftover, the region is not in the same chromosome anymore.')\n",
    "        return imp_cs,imp_start,imp_end\n"
   ]
  },
  {
   "cell_type": "code",
   "execution_count": 1,
   "id": "b265380e-03a1-488c-be68-011bc3e8da2d",
   "metadata": {
    "editable": true,
    "slideshow": {
     "slide_type": ""
    },
    "tags": []
   },
   "outputs": [
    {
     "ename": "NameError",
     "evalue": "name 'Liftover' is not defined",
     "output_type": "error",
     "traceback": [
      "\u001b[0;31m---------------------------------------------------------------------------\u001b[0m",
      "\u001b[0;31mNameError\u001b[0m                                 Traceback (most recent call last)",
      "Cell \u001b[0;32mIn[1], line 1\u001b[0m\n\u001b[0;32m----> 1\u001b[0m lf \u001b[38;5;241m=\u001b[39m \u001b[43mLiftover\u001b[49m(\u001b[38;5;124m'\u001b[39m\u001b[38;5;124mhg19\u001b[39m\u001b[38;5;124m'\u001b[39m,\u001b[38;5;124m'\u001b[39m\u001b[38;5;124mhg38\u001b[39m\u001b[38;5;124m'\u001b[39m,\u001b[38;5;124m\"\u001b[39m\u001b[38;5;124mhg19ToHg38.over.chain\u001b[39m\u001b[38;5;124m\"\u001b[39m)\n",
      "\u001b[0;31mNameError\u001b[0m: name 'Liftover' is not defined"
     ]
    }
   ],
   "source": [
    "lf = Liftover('hg19','hg38',\"hg19ToHg38.over.chain\")"
   ]
  },
  {
   "cell_type": "code",
   "execution_count": null,
   "id": "9a3f91c7-4751-46d6-b5bd-13e25a24709c",
   "metadata": {},
   "outputs": [],
   "source": []
  },
  {
   "cell_type": "markdown",
   "id": "3c199313-fc5c-4ea9-9c4a-4a3d655f0553",
   "metadata": {},
   "source": [
    "## MicroGlia lift over"
   ]
  },
  {
   "cell_type": "code",
   "execution_count": null,
   "id": "9678faac-620c-4805-b88e-072f76f50683",
   "metadata": {},
   "outputs": [],
   "source": [
    "micro_enh = pd.read_excel(\"/sc/arion/projects/load/users/patelt16/projects/regulatory_gwas/20230724.rare_prom_enh/wgs.reg.gwas/input/aay0793-nott-table-s5.xlsx\",\n",
    "                          sheet_name = \"Microglia enhancers\",names = [\"chr\",\"start\",\"end\"], skiprows = 2 )"
   ]
  },
  {
   "cell_type": "code",
   "execution_count": null,
   "id": "b5c793da-deb7-4737-b208-3d13491e34c3",
   "metadata": {},
   "outputs": [],
   "source": [
    "micro_enh = pd.read_excel(\"/sc/arion/projects/load/users/patelt16/projects/regulatory_gwas/20230724.rare_prom_enh/wgs.reg.gwas/input/aay0793-nott-table-s5.xlsx\",\n",
    "                          sheet_name = \"Microglia enhancers\",names = [\"chr\",\"start\",\"end\"], skiprows = 1 )\n",
    "micro_enh_start = micro_enh.apply(lambda x:  lf.chrpos_liftover(x[\"chr\"].replace(\"chr\",\"\"),x[\"start\"]),axis = 1 )\n",
    "micro_enh_end = micro_enh.apply(lambda x:  lf.chrpos_liftover(x[\"chr\"].replace(\"chr\",\"\"),x[\"end\"]),axis = 1 )\n",
    "micro_enh[\"start\"] =  [x[1] for x in micro_enh_start]\n",
    "micro_enh[\"end\"] =  [x[1] for x in micro_enh_end]\n",
    "micro_enh.to_csv(\"//sc/arion/projects/load/users/sunh14/annotation_interaction_gwas/microglia_hg38.Enh.Nott.tsv\",\"\\t\")"
   ]
  },
  {
   "cell_type": "code",
   "execution_count": null,
   "id": "793ae11d-2710-494f-a054-79dedcb9ea8f",
   "metadata": {
    "editable": true,
    "slideshow": {
     "slide_type": ""
    },
    "tags": []
   },
   "outputs": [],
   "source": [
    "micro_prom = pd.read_excel(\"/sc/arion/projects/load/users/patelt16/projects/regulatory_gwas/20230724.rare_prom_enh/wgs.reg.gwas/input/aay0793-nott-table-s5.xlsx\",\n",
    "                          sheet_name = \"Microglia promoters\",names = [\"chr\",\"start\",\"end\"], skiprows = 1 )\n",
    "micro_prom_start = micro_prom.apply(lambda x:  lf.chrpos_liftover(x[\"chr\"].replace(\"chr\",\"\"),x[\"start\"]),axis = 1 )\n",
    "micro_prom_end = micro_prom.apply(lambda x:  lf.chrpos_liftover(x[\"chr\"].replace(\"chr\",\"\"),x[\"end\"]),axis = 1 )\n",
    "micro_prom[\"start\"] =  [x[1] for x in micro_prom_start]\n",
    "micro_prom[\"end\"] =  [x[1] for x in micro_prom_end]\n",
    "micro_prom.to_csv(\"//sc/arion/projects/load/users/sunh14/annotation_interaction_gwas/microglia_hg38.Prom.Nott.tsv\",\"\\t\")"
   ]
  },
  {
   "cell_type": "markdown",
   "id": "dc19497e-1be4-494d-8e3f-1f8c618b7d48",
   "metadata": {},
   "source": [
    "## Astrocyte enhancers liftover for verification"
   ]
  },
  {
   "cell_type": "code",
   "execution_count": null,
   "id": "558ef7ab-ac84-41c0-968c-b619de387916",
   "metadata": {},
   "outputs": [],
   "source": [
    "Ast_enh = pd.read_excel(\"/sc/arion/projects/load/users/patelt16/projects/regulatory_gwas/20230724.rare_prom_enh/wgs.reg.gwas/input/aay0793-nott-table-s5.xlsx\",\n",
    "                          sheet_name = \"Astrocyte enhancers\",names = [\"chr\",\"start\",\"end\"], skiprows = 1 )\n",
    "Ast_enh_start = Ast_enh.apply(lambda x:  lf.chrpos_liftover(x[\"chr\"].replace(\"chr\",\"\"),x[\"start\"]),axis = 1 )\n",
    "Ast_enh_end = Ast_enh.apply(lambda x:  lf.chrpos_liftover(x[\"chr\"].replace(\"chr\",\"\"),x[\"end\"]),axis = 1 )\n",
    "Ast_enh[\"start\"] =  [x[1] for x in Ast_enh_start]\n",
    "Ast_enh[\"end\"] =  [x[1] for x in Ast_enh_end]\n",
    "Ast_enh.to_csv(\"//sc/arion/projects/load/users/sunh14/annotation_interaction_gwas/Ast_hg38.Enh.Nott.tsv\",\"\\t\")"
   ]
  },
  {
   "cell_type": "markdown",
   "id": "05ac6058-c8ff-4184-8231-673beb84e5f2",
   "metadata": {},
   "source": [
    "## Verification (Interactively in this notebook)"
   ]
  },
  {
   "cell_type": "code",
   "execution_count": 39,
   "id": "d8adf4aa-a8f8-4f9e-b478-cdcd0a4fe5da",
   "metadata": {},
   "outputs": [],
   "source": [
    "Ast_enh_lifted = pd.read_csv(\"/sc/arion/projects/load/users/patelt16/projects/regulatory_gwas/20230429/wgs.reg.vcf_to_gds/input/Nott2019_LHX2_H3K27ac_TableS5_prom_enh_hg38.bed\",sep = \"\\t\",header = None)"
   ]
  },
  {
   "cell_type": "code",
   "execution_count": 40,
   "id": "b712295f-332e-4e83-b1a0-3dc2e45248a8",
   "metadata": {},
   "outputs": [],
   "source": [
    "Ast_enh_new_lifted = pd.read_csv(\"//sc/arion/projects/load/users/sunh14/annotation_interaction_gwas/Ast_hg38.Enh.Nott.tsv\",sep = \"\\t\")"
   ]
  },
  {
   "cell_type": "code",
   "execution_count": 41,
   "id": "670080f0-f21a-4af3-b560-e88d909c0caf",
   "metadata": {},
   "outputs": [
    {
     "data": {
      "text/html": [
       "<div>\n",
       "<style scoped>\n",
       "    .dataframe tbody tr th:only-of-type {\n",
       "        vertical-align: middle;\n",
       "    }\n",
       "\n",
       "    .dataframe tbody tr th {\n",
       "        vertical-align: top;\n",
       "    }\n",
       "\n",
       "    .dataframe thead th {\n",
       "        text-align: right;\n",
       "    }\n",
       "</style>\n",
       "<table border=\"1\" class=\"dataframe\">\n",
       "  <thead>\n",
       "    <tr style=\"text-align: right;\">\n",
       "      <th></th>\n",
       "      <th>0</th>\n",
       "      <th>1</th>\n",
       "      <th>2</th>\n",
       "      <th>3</th>\n",
       "    </tr>\n",
       "  </thead>\n",
       "  <tbody>\n",
       "    <tr>\n",
       "      <th>0</th>\n",
       "      <td>1</td>\n",
       "      <td>817069</td>\n",
       "      <td>817440</td>\n",
       "      <td>ENH:1:817069:817440</td>\n",
       "    </tr>\n",
       "    <tr>\n",
       "      <th>1</th>\n",
       "      <td>1</td>\n",
       "      <td>818117</td>\n",
       "      <td>818345</td>\n",
       "      <td>ENH:1:818117:818345</td>\n",
       "    </tr>\n",
       "    <tr>\n",
       "      <th>2</th>\n",
       "      <td>1</td>\n",
       "      <td>818682</td>\n",
       "      <td>818799</td>\n",
       "      <td>ENH:1:818682:818799</td>\n",
       "    </tr>\n",
       "    <tr>\n",
       "      <th>3</th>\n",
       "      <td>1</td>\n",
       "      <td>904119</td>\n",
       "      <td>905001</td>\n",
       "      <td>ENH:1:904119:905001</td>\n",
       "    </tr>\n",
       "    <tr>\n",
       "      <th>4</th>\n",
       "      <td>1</td>\n",
       "      <td>910178</td>\n",
       "      <td>910472</td>\n",
       "      <td>ENH:1:910178:910472</td>\n",
       "    </tr>\n",
       "    <tr>\n",
       "      <th>...</th>\n",
       "      <td>...</td>\n",
       "      <td>...</td>\n",
       "      <td>...</td>\n",
       "      <td>...</td>\n",
       "    </tr>\n",
       "    <tr>\n",
       "      <th>64172</th>\n",
       "      <td>Y</td>\n",
       "      <td>14841238</td>\n",
       "      <td>14843072</td>\n",
       "      <td>ENH:Y:14841238:14843072</td>\n",
       "    </tr>\n",
       "    <tr>\n",
       "      <th>64173</th>\n",
       "      <td>Y</td>\n",
       "      <td>15424759</td>\n",
       "      <td>15424948</td>\n",
       "      <td>ENH:Y:15424759:15424948</td>\n",
       "    </tr>\n",
       "    <tr>\n",
       "      <th>64174</th>\n",
       "      <td>Y</td>\n",
       "      <td>17234038</td>\n",
       "      <td>17234873</td>\n",
       "      <td>ENH:Y:17234038:17234873</td>\n",
       "    </tr>\n",
       "    <tr>\n",
       "      <th>64175</th>\n",
       "      <td>Y</td>\n",
       "      <td>20576971</td>\n",
       "      <td>20577183</td>\n",
       "      <td>ENH:Y:20576971:20577183</td>\n",
       "    </tr>\n",
       "    <tr>\n",
       "      <th>64176</th>\n",
       "      <td>Y</td>\n",
       "      <td>21829606</td>\n",
       "      <td>21829902</td>\n",
       "      <td>ENH:Y:21829606:21829902</td>\n",
       "    </tr>\n",
       "  </tbody>\n",
       "</table>\n",
       "<p>64177 rows × 4 columns</p>\n",
       "</div>"
      ],
      "text/plain": [
       "       0         1         2                        3\n",
       "0      1    817069    817440      ENH:1:817069:817440\n",
       "1      1    818117    818345      ENH:1:818117:818345\n",
       "2      1    818682    818799      ENH:1:818682:818799\n",
       "3      1    904119    905001      ENH:1:904119:905001\n",
       "4      1    910178    910472      ENH:1:910178:910472\n",
       "...   ..       ...       ...                      ...\n",
       "64172  Y  14841238  14843072  ENH:Y:14841238:14843072\n",
       "64173  Y  15424759  15424948  ENH:Y:15424759:15424948\n",
       "64174  Y  17234038  17234873  ENH:Y:17234038:17234873\n",
       "64175  Y  20576971  20577183  ENH:Y:20576971:20577183\n",
       "64176  Y  21829606  21829902  ENH:Y:21829606:21829902\n",
       "\n",
       "[64177 rows x 4 columns]"
      ]
     },
     "execution_count": 41,
     "metadata": {},
     "output_type": "execute_result"
    }
   ],
   "source": [
    "Ast_enh_lifted"
   ]
  },
  {
   "cell_type": "code",
   "execution_count": 42,
   "id": "7e2e0511-4844-41e3-bd03-bbabfd07b240",
   "metadata": {},
   "outputs": [
    {
     "data": {
      "text/html": [
       "<div>\n",
       "<style scoped>\n",
       "    .dataframe tbody tr th:only-of-type {\n",
       "        vertical-align: middle;\n",
       "    }\n",
       "\n",
       "    .dataframe tbody tr th {\n",
       "        vertical-align: top;\n",
       "    }\n",
       "\n",
       "    .dataframe thead th {\n",
       "        text-align: right;\n",
       "    }\n",
       "</style>\n",
       "<table border=\"1\" class=\"dataframe\">\n",
       "  <thead>\n",
       "    <tr style=\"text-align: right;\">\n",
       "      <th></th>\n",
       "      <th>Unnamed: 0</th>\n",
       "      <th>chr</th>\n",
       "      <th>start</th>\n",
       "      <th>end</th>\n",
       "    </tr>\n",
       "  </thead>\n",
       "  <tbody>\n",
       "    <tr>\n",
       "      <th>0</th>\n",
       "      <td>0</td>\n",
       "      <td>chr1</td>\n",
       "      <td>817069</td>\n",
       "      <td>817440</td>\n",
       "    </tr>\n",
       "    <tr>\n",
       "      <th>1</th>\n",
       "      <td>1</td>\n",
       "      <td>chr1</td>\n",
       "      <td>818117</td>\n",
       "      <td>818345</td>\n",
       "    </tr>\n",
       "    <tr>\n",
       "      <th>2</th>\n",
       "      <td>2</td>\n",
       "      <td>chr1</td>\n",
       "      <td>818682</td>\n",
       "      <td>818799</td>\n",
       "    </tr>\n",
       "    <tr>\n",
       "      <th>3</th>\n",
       "      <td>3</td>\n",
       "      <td>chr1</td>\n",
       "      <td>904119</td>\n",
       "      <td>905001</td>\n",
       "    </tr>\n",
       "    <tr>\n",
       "      <th>4</th>\n",
       "      <td>4</td>\n",
       "      <td>chr1</td>\n",
       "      <td>910178</td>\n",
       "      <td>910472</td>\n",
       "    </tr>\n",
       "    <tr>\n",
       "      <th>...</th>\n",
       "      <td>...</td>\n",
       "      <td>...</td>\n",
       "      <td>...</td>\n",
       "      <td>...</td>\n",
       "    </tr>\n",
       "    <tr>\n",
       "      <th>63806</th>\n",
       "      <td>63806</td>\n",
       "      <td>chrY</td>\n",
       "      <td>14841238</td>\n",
       "      <td>14843072</td>\n",
       "    </tr>\n",
       "    <tr>\n",
       "      <th>63807</th>\n",
       "      <td>63807</td>\n",
       "      <td>chrY</td>\n",
       "      <td>15424759</td>\n",
       "      <td>15424948</td>\n",
       "    </tr>\n",
       "    <tr>\n",
       "      <th>63808</th>\n",
       "      <td>63808</td>\n",
       "      <td>chrY</td>\n",
       "      <td>17234038</td>\n",
       "      <td>17234873</td>\n",
       "    </tr>\n",
       "    <tr>\n",
       "      <th>63809</th>\n",
       "      <td>63809</td>\n",
       "      <td>chrY</td>\n",
       "      <td>20576971</td>\n",
       "      <td>20577183</td>\n",
       "    </tr>\n",
       "    <tr>\n",
       "      <th>63810</th>\n",
       "      <td>63810</td>\n",
       "      <td>chrY</td>\n",
       "      <td>21829606</td>\n",
       "      <td>21829902</td>\n",
       "    </tr>\n",
       "  </tbody>\n",
       "</table>\n",
       "<p>63811 rows × 4 columns</p>\n",
       "</div>"
      ],
      "text/plain": [
       "       Unnamed: 0   chr     start       end\n",
       "0               0  chr1    817069    817440\n",
       "1               1  chr1    818117    818345\n",
       "2               2  chr1    818682    818799\n",
       "3               3  chr1    904119    905001\n",
       "4               4  chr1    910178    910472\n",
       "...           ...   ...       ...       ...\n",
       "63806       63806  chrY  14841238  14843072\n",
       "63807       63807  chrY  15424759  15424948\n",
       "63808       63808  chrY  17234038  17234873\n",
       "63809       63809  chrY  20576971  20577183\n",
       "63810       63810  chrY  21829606  21829902\n",
       "\n",
       "[63811 rows x 4 columns]"
      ]
     },
     "execution_count": 42,
     "metadata": {},
     "output_type": "execute_result"
    }
   ],
   "source": [
    "Ast_enh_new_lifted"
   ]
  },
  {
   "cell_type": "markdown",
   "id": "c41b033c-6391-4e59-9e3f-8fcfb528d3f2",
   "metadata": {},
   "source": [
    "### From UCSC Browser\n",
    "```\n",
    "chr1\t817069\t817440\tchr1:752450-752820\t1\n",
    "chr1\t818117\t818345\tchr1:753498-753725\t1\n",
    "chr1\t818682\t818799\tchr1:754063-754179\t1\n",
    "chr1\t904119\t905001\tchr1:839500-840381\t1\n",
    "chr1\t910178\t910472\tchr1:845559-845852\t1\n",
    "chr1\t939920\t940068\tchr1:875301-875448\t1\n",
    "chr1\t976023\t976683\tchr1:911404-912063\t1\n",
    "chr1\t976912\t977020\tchr1:912293-912400\t1\n",
    "chr1\t997336\t997471\tchr1:932717-932851\t1\n",
    "chr1\t998014\t998404\tchr1:933395-933784\t1\n",
    "chr1\t1002289\t1002359\tchr1:937670-937739\t1\n",
    "chr1\t1005170\t1005899\tchr1:940551-941279\t1\n",
    "chr1\t1012736\t1012794\tchr1:948117-948174\t1\n",
    "chr1\t1014645\t1015255\tchr1:950026-950635\t1\n",
    "chr1\t1018940\t1019069\tchr1:954321-954449\t1\n",
    "chr1\t1024021\t1024185\tchr1:959402-959565\t1\n",
    "chr1\t1024530\t1025572\tchr1:959911-960952\t1\n",
    "chr1\t1032727\t1033069\tchr1:968108-968449\t1\n",
    "```"
   ]
  },
  {
   "cell_type": "code",
   "execution_count": 31,
   "id": "2623648a-ece9-46e1-b690-249283581ffa",
   "metadata": {},
   "outputs": [
    {
     "ename": "SyntaxError",
     "evalue": "invalid syntax (1608175822.py, line 1)",
     "output_type": "error",
     "traceback": [
      "\u001b[0;36m  Cell \u001b[0;32mIn[31], line 1\u001b[0;36m\u001b[0m\n\u001b[0;31m    ```\u001b[0m\n\u001b[0m    ^\u001b[0m\n\u001b[0;31mSyntaxError\u001b[0m\u001b[0;31m:\u001b[0m invalid syntax\n"
     ]
    }
   ],
   "source": []
  },
  {
   "cell_type": "code",
   "execution_count": null,
   "id": "37c85571-16a3-4a3a-a78c-bd76dc63843b",
   "metadata": {},
   "outputs": [],
   "source": []
  }
 ],
 "metadata": {
  "kernelspec": {
   "display_name": "Python 3 (ipykernel)",
   "language": "python",
   "name": "python3"
  },
  "language_info": {
   "codemirror_mode": {
    "name": "ipython",
    "version": 3
   },
   "file_extension": ".py",
   "mimetype": "text/x-python",
   "name": "python",
   "nbconvert_exporter": "python",
   "pygments_lexer": "ipython3",
   "version": "3.11.4"
  }
 },
 "nbformat": 4,
 "nbformat_minor": 5
}
